{
 "cells": [
  {
   "cell_type": "markdown",
   "metadata": {
    "colab_type": "text",
    "id": "d5dhgZu1n5j3"
   },
   "source": [
    "# <center>Product Review Data Analysis and Processing</center>"
   ]
  },
  {
   "cell_type": "markdown",
   "metadata": {
    "colab_type": "text",
    "id": "blHwamokO3Lk"
   },
   "source": [
    "### <center>Balraj Singh Bains &nbsp;&nbsp;&nbsp;&nbsp; Brandon Chua Shao Jie &nbsp;&nbsp;&nbsp;&nbsp; Ron Kow Kheng Hui &nbsp;&nbsp;&nbsp;&nbsp; Samuel Samsudin Ng</center> ###"
   ]
  },
  {
   "cell_type": "markdown",
   "metadata": {
    "colab_type": "text",
    "id": "o1HFr7xo-v7H"
   },
   "source": [
    "## 3.2 Dataset Analysis\n",
    "## 3.2.1 Popular Products and Frequent Reviewers ###"
   ]
  },
  {
   "cell_type": "code",
   "execution_count": 1,
   "metadata": {
    "colab": {},
    "colab_type": "code",
    "id": "ewrvxmZ4-v7K"
   },
   "outputs": [],
   "source": [
    "import random\n",
    "import json\n",
    "import pandas as pd\n",
    "import numpy as np\n",
    "import matplotlib.pyplot as plt\n",
    "import nltk\n",
    "\n",
    "from nltk.tokenize import sent_tokenize   # for sentence tokenization\n",
    "from nltk.tokenize import word_tokenize\n",
    "from nltk.stem.porter import PorterStemmer\n",
    "\n",
    "# install nltk packages\n",
    "nltk_downloader = nltk.downloader.Downloader()\n",
    "if not nltk_downloader.is_installed('punkt'):\n",
    "    nltk_downloader.download('punkt')\n",
    "if not nltk_downloader.is_installed('averaged_perceptron_tagger'):\n",
    "    nltk_downloader.download('averaged_perceptron_tagger')\n",
    "\n",
    "plt.close('all')"
   ]
  },
  {
   "cell_type": "markdown",
   "metadata": {
    "colab_type": "text",
    "id": "LahRCT-QO3L1"
   },
   "source": [
    "**Open the json file and write the data to a list. Then convert the list to a pandas DataFrame.** "
   ]
  },
  {
   "cell_type": "code",
   "execution_count": 2,
   "metadata": {
    "colab": {},
    "colab_type": "code",
    "id": "4TGofogE-v7Q"
   },
   "outputs": [],
   "source": [
    "# Create a list of all records\n",
    "\n",
    "data_dir = './'\n",
    "data_file = 'CellPhoneReview.json'\n",
    "all_reviews = []\n",
    "\n",
    "with open(data_dir + data_file) as json_file:\n",
    "    for j in json_file:\n",
    "        x = json.loads(j)\n",
    "        all_reviews.append(x)\n",
    "        \n",
    "# Convert list to DataFrame\n",
    "df_all_reviews = pd.DataFrame(all_reviews)"
   ]
  },
  {
   "cell_type": "code",
   "execution_count": 3,
   "metadata": {
    "colab": {
     "base_uri": "https://localhost:8080/",
     "height": 179
    },
    "colab_type": "code",
    "executionInfo": {
     "elapsed": 1522,
     "status": "ok",
     "timestamp": 1584424491522,
     "user": {
      "displayName": "Samuel Samsudin Ng",
      "photoUrl": "",
      "userId": "05590236537846667089"
     },
     "user_tz": -480
    },
    "id": "t6pmKgn6-v7Z",
    "outputId": "b7021f71-e598-41d0-dcd8-e375ffb3a375"
   },
   "outputs": [
    {
     "name": "stdout",
     "output_type": "stream",
     "text": [
      "Number of reviews =  190919 \n",
      "\n"
     ]
    },
    {
     "data": {
      "text/html": [
       "<div>\n",
       "<style scoped>\n",
       "    .dataframe tbody tr th:only-of-type {\n",
       "        vertical-align: middle;\n",
       "    }\n",
       "\n",
       "    .dataframe tbody tr th {\n",
       "        vertical-align: top;\n",
       "    }\n",
       "\n",
       "    .dataframe thead th {\n",
       "        text-align: right;\n",
       "    }\n",
       "</style>\n",
       "<table border=\"1\" class=\"dataframe\">\n",
       "  <thead>\n",
       "    <tr style=\"text-align: right;\">\n",
       "      <th></th>\n",
       "      <th>reviewerID</th>\n",
       "      <th>asin</th>\n",
       "      <th>reviewText</th>\n",
       "      <th>overall</th>\n",
       "      <th>summary</th>\n",
       "      <th>unixReviewTime</th>\n",
       "      <th>reviewTime</th>\n",
       "    </tr>\n",
       "  </thead>\n",
       "  <tbody>\n",
       "    <tr>\n",
       "      <th>0</th>\n",
       "      <td>ASY55RVNIL0UD</td>\n",
       "      <td>120401325X</td>\n",
       "      <td>These stickers work like the review says they ...</td>\n",
       "      <td>5.0</td>\n",
       "      <td>Really great product.</td>\n",
       "      <td>1389657600</td>\n",
       "      <td>01 14, 2014</td>\n",
       "    </tr>\n",
       "    <tr>\n",
       "      <th>1</th>\n",
       "      <td>A2TMXE2AFO7ONB</td>\n",
       "      <td>120401325X</td>\n",
       "      <td>These are awesome and make my phone look so st...</td>\n",
       "      <td>5.0</td>\n",
       "      <td>LOVE LOVE LOVE</td>\n",
       "      <td>1403740800</td>\n",
       "      <td>06 26, 2014</td>\n",
       "    </tr>\n",
       "  </tbody>\n",
       "</table>\n",
       "</div>"
      ],
      "text/plain": [
       "       reviewerID        asin  \\\n",
       "0   ASY55RVNIL0UD  120401325X   \n",
       "1  A2TMXE2AFO7ONB  120401325X   \n",
       "\n",
       "                                          reviewText  overall  \\\n",
       "0  These stickers work like the review says they ...      5.0   \n",
       "1  These are awesome and make my phone look so st...      5.0   \n",
       "\n",
       "                 summary  unixReviewTime   reviewTime  \n",
       "0  Really great product.      1389657600  01 14, 2014  \n",
       "1         LOVE LOVE LOVE      1403740800  06 26, 2014  "
      ]
     },
     "execution_count": 3,
     "metadata": {},
     "output_type": "execute_result"
    }
   ],
   "source": [
    "print('Number of reviews = ',len(df_all_reviews),'\\n')\n",
    "\n",
    "# Inspect the first two rows\n",
    "df_all_reviews.head(2)"
   ]
  },
  {
   "cell_type": "code",
   "execution_count": 4,
   "metadata": {
    "colab": {},
    "colab_type": "code",
    "id": "6rqdp_n-O3ME",
    "outputId": "e757d8a2-37db-49fe-a107-0f39cc75c256"
   },
   "outputs": [
    {
     "data": {
      "text/html": [
       "<div>\n",
       "<style scoped>\n",
       "    .dataframe tbody tr th:only-of-type {\n",
       "        vertical-align: middle;\n",
       "    }\n",
       "\n",
       "    .dataframe tbody tr th {\n",
       "        vertical-align: top;\n",
       "    }\n",
       "\n",
       "    .dataframe thead th {\n",
       "        text-align: right;\n",
       "    }\n",
       "</style>\n",
       "<table border=\"1\" class=\"dataframe\">\n",
       "  <thead>\n",
       "    <tr style=\"text-align: right;\">\n",
       "      <th></th>\n",
       "      <th>reviewTime</th>\n",
       "    </tr>\n",
       "  </thead>\n",
       "  <tbody>\n",
       "    <tr>\n",
       "      <th>0</th>\n",
       "      <td>01 14, 2014</td>\n",
       "    </tr>\n",
       "    <tr>\n",
       "      <th>1</th>\n",
       "      <td>06 26, 2014</td>\n",
       "    </tr>\n",
       "  </tbody>\n",
       "</table>\n",
       "</div>"
      ],
      "text/plain": [
       "    reviewTime\n",
       "0  01 14, 2014\n",
       "1  06 26, 2014"
      ]
     },
     "execution_count": 4,
     "metadata": {},
     "output_type": "execute_result"
    }
   ],
   "source": [
    "df_date = df_all_reviews[['reviewTime']]\n",
    "df_date.head(2)"
   ]
  },
  {
   "cell_type": "code",
   "execution_count": 5,
   "metadata": {
    "colab": {},
    "colab_type": "code",
    "id": "813Vi3OHO3ML",
    "outputId": "81ab0bf9-a4f8-41eb-d510-7b98a6a3735c"
   },
   "outputs": [
    {
     "name": "stdout",
     "output_type": "stream",
     "text": [
      "190919\n"
     ]
    }
   ],
   "source": [
    "# Check range of years\n",
    "\n",
    "date_year = []\n",
    "for i, row in df_date.iterrows():\n",
    "    date_token = word_tokenize(row['reviewTime'])\n",
    "    for t in date_token:\n",
    "        if t != ',' and int(t) > 31:\n",
    "            date_year.append(t)\n",
    "\n",
    "print(len(date_year))"
   ]
  },
  {
   "cell_type": "code",
   "execution_count": 6,
   "metadata": {
    "colab": {},
    "colab_type": "code",
    "id": "O_kQV41kO3MS",
    "outputId": "17a80864-4072-41c7-aa41-9f0e6e41c4aa"
   },
   "outputs": [
    {
     "name": "stdout",
     "output_type": "stream",
     "text": [
      "2001\n",
      "2014\n"
     ]
    }
   ],
   "source": [
    "# Convert str in date_year to int\n",
    "date_year = list(map(int, date_year))\n",
    "\n",
    "# Check range of years\n",
    "print(min(date_year))\n",
    "print(max(date_year))"
   ]
  },
  {
   "cell_type": "code",
   "execution_count": 7,
   "metadata": {
    "colab": {},
    "colab_type": "code",
    "id": "aNtQ4BfHO3MX",
    "outputId": "1aa085c3-6bfb-4d1a-ced3-7313400c0051"
   },
   "outputs": [
    {
     "name": "stdout",
     "output_type": "stream",
     "text": [
      "2001 :  1\n",
      "2002 :  1\n",
      "2003 :  2\n",
      "2004 :  44\n",
      "2005 :  129\n",
      "2006 :  240\n",
      "2007 :  389\n",
      "2008 :  676\n",
      "2009 :  1304\n",
      "2010 :  3414\n",
      "2011 :  9516\n",
      "2012 :  29612\n",
      "2013 :  91261\n",
      "2014 :  54330\n"
     ]
    }
   ],
   "source": [
    "# Check number of reviews per year\n",
    "\n",
    "for year in range(2001,2015):\n",
    "    print(year, ': ',date_year.count(year))"
   ]
  },
  {
   "cell_type": "markdown",
   "metadata": {
    "colab_type": "text",
    "id": "890FpTApO3Mc"
   },
   "source": [
    "### The DataFrame **df_all_reviews** will be used in all sub-sections:   \n",
    "**3.2.1** Popular Products and Frequent Reviewers   \n",
    "**3.2.2** Sentence Segmentation   \n",
    "**3.2.3** Tokenization and Stemming    \n",
    "**3.2.4** POS Tagging  \n",
    "**Each sub-section can be run independently.**"
   ]
  },
  {
   "cell_type": "markdown",
   "metadata": {
    "colab_type": "text",
    "id": "X_HQHiH2O3Md"
   },
   "source": [
    "**Explore the data to determine:   \n",
    "(1) Number of unique products,   \n",
    "(2) Number of unique reviewers,  \n",
    "(3) Distribution of number of reviews (by number of products),  \n",
    "(4) Distribution of number of reviews (by number of reviewers)**"
   ]
  },
  {
   "cell_type": "code",
   "execution_count": 8,
   "metadata": {
    "colab": {},
    "colab_type": "code",
    "id": "8Kz1Rh8h-v7d",
    "outputId": "0cb58190-0e1e-401e-e4ce-40d17ea57f0b"
   },
   "outputs": [
    {
     "name": "stdout",
     "output_type": "stream",
     "text": [
      "Number of unique products =  10420 \n",
      "\n"
     ]
    },
    {
     "data": {
      "text/html": [
       "<div>\n",
       "<style scoped>\n",
       "    .dataframe tbody tr th:only-of-type {\n",
       "        vertical-align: middle;\n",
       "    }\n",
       "\n",
       "    .dataframe tbody tr th {\n",
       "        vertical-align: top;\n",
       "    }\n",
       "\n",
       "    .dataframe thead th {\n",
       "        text-align: right;\n",
       "    }\n",
       "</style>\n",
       "<table border=\"1\" class=\"dataframe\">\n",
       "  <thead>\n",
       "    <tr style=\"text-align: right;\">\n",
       "      <th></th>\n",
       "      <th>asin</th>\n",
       "      <th>num_reviews</th>\n",
       "    </tr>\n",
       "  </thead>\n",
       "  <tbody>\n",
       "    <tr>\n",
       "      <th>0</th>\n",
       "      <td>B005SUHPO6</td>\n",
       "      <td>836</td>\n",
       "    </tr>\n",
       "    <tr>\n",
       "      <th>1</th>\n",
       "      <td>B0042FV2SI</td>\n",
       "      <td>690</td>\n",
       "    </tr>\n",
       "  </tbody>\n",
       "</table>\n",
       "</div>"
      ],
      "text/plain": [
       "         asin  num_reviews\n",
       "0  B005SUHPO6          836\n",
       "1  B0042FV2SI          690"
      ]
     },
     "execution_count": 8,
     "metadata": {},
     "output_type": "execute_result"
    }
   ],
   "source": [
    "# (1) Create 2-column DataFrames: asin num_reviews\n",
    "# For plotting review distribution histogram later\n",
    "\n",
    "df_product_numreviews = df_all_reviews.asin.value_counts().reset_index()\n",
    "df_product_numreviews.columns = ['asin', 'num_reviews']\n",
    "\n",
    "print('Number of unique products = ',len(df_product_numreviews.asin),'\\n')\n",
    "df_product_numreviews.head(2)"
   ]
  },
  {
   "cell_type": "code",
   "execution_count": 9,
   "metadata": {
    "colab": {},
    "colab_type": "code",
    "id": "NWFqisIpO3Mk",
    "outputId": "c98d2afe-bd5c-4f6b-ba1d-6ba318c6e27d"
   },
   "outputs": [
    {
     "data": {
      "text/html": [
       "<div>\n",
       "<style scoped>\n",
       "    .dataframe tbody tr th:only-of-type {\n",
       "        vertical-align: middle;\n",
       "    }\n",
       "\n",
       "    .dataframe tbody tr th {\n",
       "        vertical-align: top;\n",
       "    }\n",
       "\n",
       "    .dataframe thead th {\n",
       "        text-align: right;\n",
       "    }\n",
       "</style>\n",
       "<table border=\"1\" class=\"dataframe\">\n",
       "  <thead>\n",
       "    <tr style=\"text-align: right;\">\n",
       "      <th></th>\n",
       "      <th>num_reviews</th>\n",
       "      <th>num_products</th>\n",
       "    </tr>\n",
       "  </thead>\n",
       "  <tbody>\n",
       "    <tr>\n",
       "      <th>0</th>\n",
       "      <td>5</td>\n",
       "      <td>1754</td>\n",
       "    </tr>\n",
       "    <tr>\n",
       "      <th>1</th>\n",
       "      <td>6</td>\n",
       "      <td>1235</td>\n",
       "    </tr>\n",
       "    <tr>\n",
       "      <th>2</th>\n",
       "      <td>7</td>\n",
       "      <td>1023</td>\n",
       "    </tr>\n",
       "    <tr>\n",
       "      <th>3</th>\n",
       "      <td>8</td>\n",
       "      <td>716</td>\n",
       "    </tr>\n",
       "    <tr>\n",
       "      <th>4</th>\n",
       "      <td>9</td>\n",
       "      <td>609</td>\n",
       "    </tr>\n",
       "    <tr>\n",
       "      <th>...</th>\n",
       "      <td>...</td>\n",
       "      <td>...</td>\n",
       "    </tr>\n",
       "    <tr>\n",
       "      <th>214</th>\n",
       "      <td>196</td>\n",
       "      <td>1</td>\n",
       "    </tr>\n",
       "    <tr>\n",
       "      <th>215</th>\n",
       "      <td>162</td>\n",
       "      <td>1</td>\n",
       "    </tr>\n",
       "    <tr>\n",
       "      <th>216</th>\n",
       "      <td>194</td>\n",
       "      <td>1</td>\n",
       "    </tr>\n",
       "    <tr>\n",
       "      <th>217</th>\n",
       "      <td>250</td>\n",
       "      <td>1</td>\n",
       "    </tr>\n",
       "    <tr>\n",
       "      <th>218</th>\n",
       "      <td>431</td>\n",
       "      <td>1</td>\n",
       "    </tr>\n",
       "  </tbody>\n",
       "</table>\n",
       "<p>219 rows × 2 columns</p>\n",
       "</div>"
      ],
      "text/plain": [
       "     num_reviews  num_products\n",
       "0              5          1754\n",
       "1              6          1235\n",
       "2              7          1023\n",
       "3              8           716\n",
       "4              9           609\n",
       "..           ...           ...\n",
       "214          196             1\n",
       "215          162             1\n",
       "216          194             1\n",
       "217          250             1\n",
       "218          431             1\n",
       "\n",
       "[219 rows x 2 columns]"
      ]
     },
     "execution_count": 9,
     "metadata": {},
     "output_type": "execute_result"
    }
   ],
   "source": [
    "# (2) Create 2-column DataFrames from (1) for sanity check: num_reviews num_products\n",
    "\n",
    "df_numreviews_numproducts = df_product_numreviews.num_reviews.value_counts().reset_index()\n",
    "df_numreviews_numproducts.columns = ['num_reviews', 'num_products']\n",
    "\n",
    "df_numreviews_numproducts"
   ]
  },
  {
   "cell_type": "code",
   "execution_count": 10,
   "metadata": {
    "colab": {
     "base_uri": "https://localhost:8080/",
     "height": 85
    },
    "colab_type": "code",
    "executionInfo": {
     "elapsed": 987,
     "status": "ok",
     "timestamp": 1584424792124,
     "user": {
      "displayName": "Samuel Samsudin Ng",
      "photoUrl": "",
      "userId": "05590236537846667089"
     },
     "user_tz": -480
    },
    "id": "k9_YCuRx-v7i",
    "outputId": "838f286b-6961-4196-faf4-b321c3cb1d23"
   },
   "outputs": [
    {
     "name": "stdout",
     "output_type": "stream",
     "text": [
      "Number of unique reviewers =  27874 \n",
      "\n"
     ]
    },
    {
     "data": {
      "text/html": [
       "<div>\n",
       "<style scoped>\n",
       "    .dataframe tbody tr th:only-of-type {\n",
       "        vertical-align: middle;\n",
       "    }\n",
       "\n",
       "    .dataframe tbody tr th {\n",
       "        vertical-align: top;\n",
       "    }\n",
       "\n",
       "    .dataframe thead th {\n",
       "        text-align: right;\n",
       "    }\n",
       "</style>\n",
       "<table border=\"1\" class=\"dataframe\">\n",
       "  <thead>\n",
       "    <tr style=\"text-align: right;\">\n",
       "      <th></th>\n",
       "      <th>reviewerID</th>\n",
       "      <th>num_reviews</th>\n",
       "    </tr>\n",
       "  </thead>\n",
       "  <tbody>\n",
       "    <tr>\n",
       "      <th>0</th>\n",
       "      <td>A2NYK9KWFMJV4Y</td>\n",
       "      <td>152</td>\n",
       "    </tr>\n",
       "    <tr>\n",
       "      <th>1</th>\n",
       "      <td>A22CW0ZHY3NJH8</td>\n",
       "      <td>138</td>\n",
       "    </tr>\n",
       "  </tbody>\n",
       "</table>\n",
       "</div>"
      ],
      "text/plain": [
       "       reviewerID  num_reviews\n",
       "0  A2NYK9KWFMJV4Y          152\n",
       "1  A22CW0ZHY3NJH8          138"
      ]
     },
     "execution_count": 10,
     "metadata": {},
     "output_type": "execute_result"
    }
   ],
   "source": [
    "# (3) Create 2 column DataFrames: reviewerID num_reviews\n",
    "# For plotting review distribution histogram later\n",
    "\n",
    "df_reviewer_numreviews = df_all_reviews.reviewerID.value_counts().reset_index()\n",
    "df_reviewer_numreviews.columns = ['reviewerID', 'num_reviews']\n",
    "\n",
    "print('Number of unique reviewers = ',len(df_reviewer_numreviews.reviewerID),'\\n')\n",
    "df_reviewer_numreviews.head(2)"
   ]
  },
  {
   "cell_type": "code",
   "execution_count": 11,
   "metadata": {
    "colab": {
     "base_uri": "https://localhost:8080/",
     "height": 493
    },
    "colab_type": "code",
    "executionInfo": {
     "elapsed": 1001,
     "status": "ok",
     "timestamp": 1584424810252,
     "user": {
      "displayName": "Samuel Samsudin Ng",
      "photoUrl": "",
      "userId": "05590236537846667089"
     },
     "user_tz": -480
    },
    "id": "PehBhKAs-v7n",
    "outputId": "39015b6a-f701-4955-8da5-b5e9e60cea58"
   },
   "outputs": [
    {
     "data": {
      "text/html": [
       "<div>\n",
       "<style scoped>\n",
       "    .dataframe tbody tr th:only-of-type {\n",
       "        vertical-align: middle;\n",
       "    }\n",
       "\n",
       "    .dataframe tbody tr th {\n",
       "        vertical-align: top;\n",
       "    }\n",
       "\n",
       "    .dataframe thead th {\n",
       "        text-align: right;\n",
       "    }\n",
       "</style>\n",
       "<table border=\"1\" class=\"dataframe\">\n",
       "  <thead>\n",
       "    <tr style=\"text-align: right;\">\n",
       "      <th></th>\n",
       "      <th>num_reviews</th>\n",
       "      <th>num_reviewers</th>\n",
       "    </tr>\n",
       "  </thead>\n",
       "  <tbody>\n",
       "    <tr>\n",
       "      <th>0</th>\n",
       "      <td>5</td>\n",
       "      <td>11497</td>\n",
       "    </tr>\n",
       "    <tr>\n",
       "      <th>1</th>\n",
       "      <td>6</td>\n",
       "      <td>5675</td>\n",
       "    </tr>\n",
       "    <tr>\n",
       "      <th>2</th>\n",
       "      <td>7</td>\n",
       "      <td>3314</td>\n",
       "    </tr>\n",
       "    <tr>\n",
       "      <th>3</th>\n",
       "      <td>8</td>\n",
       "      <td>1934</td>\n",
       "    </tr>\n",
       "    <tr>\n",
       "      <th>4</th>\n",
       "      <td>9</td>\n",
       "      <td>1197</td>\n",
       "    </tr>\n",
       "    <tr>\n",
       "      <th>...</th>\n",
       "      <td>...</td>\n",
       "      <td>...</td>\n",
       "    </tr>\n",
       "    <tr>\n",
       "      <th>74</th>\n",
       "      <td>56</td>\n",
       "      <td>1</td>\n",
       "    </tr>\n",
       "    <tr>\n",
       "      <th>75</th>\n",
       "      <td>87</td>\n",
       "      <td>1</td>\n",
       "    </tr>\n",
       "    <tr>\n",
       "      <th>76</th>\n",
       "      <td>71</td>\n",
       "      <td>1</td>\n",
       "    </tr>\n",
       "    <tr>\n",
       "      <th>77</th>\n",
       "      <td>102</td>\n",
       "      <td>1</td>\n",
       "    </tr>\n",
       "    <tr>\n",
       "      <th>78</th>\n",
       "      <td>55</td>\n",
       "      <td>1</td>\n",
       "    </tr>\n",
       "  </tbody>\n",
       "</table>\n",
       "<p>79 rows × 2 columns</p>\n",
       "</div>"
      ],
      "text/plain": [
       "    num_reviews  num_reviewers\n",
       "0             5          11497\n",
       "1             6           5675\n",
       "2             7           3314\n",
       "3             8           1934\n",
       "4             9           1197\n",
       "..          ...            ...\n",
       "74           56              1\n",
       "75           87              1\n",
       "76           71              1\n",
       "77          102              1\n",
       "78           55              1\n",
       "\n",
       "[79 rows x 2 columns]"
      ]
     },
     "execution_count": 11,
     "metadata": {},
     "output_type": "execute_result"
    }
   ],
   "source": [
    "# (4) Create 2 column DataFrames from (3) for sanity check: num_reviews num_reviewers\n",
    "\n",
    "df_numreviews_numreviewers = df_reviewer_numreviews.num_reviews.value_counts().reset_index()\n",
    "df_numreviews_numreviewers.columns = ['num_reviews', 'num_reviewers']\n",
    "\n",
    "df_numreviews_numreviewers"
   ]
  },
  {
   "cell_type": "markdown",
   "metadata": {
    "colab_type": "text",
    "id": "haXPPtXVqNeD"
   },
   "source": [
    "### Plot 1 - NUMBER OF PRODUCTS (y) against NUMBER OF REVIEWS (x)"
   ]
  },
  {
   "cell_type": "code",
   "execution_count": 12,
   "metadata": {
    "colab": {},
    "colab_type": "code",
    "id": "HEahpkptO3M2",
    "outputId": "5d0ea0f2-87cf-46e7-d645-17bf3e5e61c6"
   },
   "outputs": [
    {
     "name": "stdout",
     "output_type": "stream",
     "text": [
      "SUMMARY STATISTICS\n",
      "\n",
      "Max number of reviews (product) =  836\n",
      "Min number of reviews (product) =  1\n",
      "Mean number of reviews (product) =  18.32236084452975\n",
      "Median number of reviews (product) =  9.0 \n",
      "\n",
      "Max number of reviews (reviewer) =  152\n",
      "Min number of reviews (reviewer) =  1\n",
      "Mean number of reviews (reviewer) =  6.849357824495946\n",
      "Median number of reviews (reviewer) =  6.0\n"
     ]
    }
   ],
   "source": [
    "# Just need a single column (num_reviews) to plot the distribution using a histogram \n",
    "# Remove the first columns in (2) and (4)\n",
    "\n",
    "df_product_numreviews = df_product_numreviews[['num_reviews']]\n",
    "df_reviewer_numreviews = df_reviewer_numreviews[['num_reviews']]\n",
    "\n",
    "# SUMMARY STATISTICS\n",
    "print('SUMMARY STATISTICS\\n')\n",
    "print('Max number of reviews (product) = ',max(df_product_numreviews['num_reviews']))\n",
    "print('Min number of reviews (product) = ',min(df_product_numreviews['num_reviews']))\n",
    "print('Mean number of reviews (product) = ',df_product_numreviews['num_reviews'].mean())\n",
    "print('Median number of reviews (product) = ',df_product_numreviews['num_reviews'].median(),'\\n')\n",
    "\n",
    "print('Max number of reviews (reviewer) = ',max(df_reviewer_numreviews['num_reviews']))\n",
    "print('Min number of reviews (reviewer) = ',min(df_reviewer_numreviews['num_reviews']))\n",
    "print('Mean number of reviews (reviewer) = ',df_reviewer_numreviews['num_reviews'].mean())\n",
    "print('Median number of reviews (reviewer) = ',df_reviewer_numreviews['num_reviews'].median())"
   ]
  },
  {
   "cell_type": "markdown",
   "metadata": {
    "colab_type": "text",
    "id": "govqE5-RO3M7"
   },
   "source": [
    "**Plot histograms to show the reviews distribution by number of products:  \n",
    "(1) Linear scale      \n",
    "(2) log scale**"
   ]
  },
  {
   "cell_type": "code",
   "execution_count": 13,
   "metadata": {
    "colab": {
     "base_uri": "https://localhost:8080/",
     "height": 573
    },
    "colab_type": "code",
    "executionInfo": {
     "elapsed": 1852,
     "status": "ok",
     "timestamp": 1584425541130,
     "user": {
      "displayName": "Samuel Samsudin Ng",
      "photoUrl": "",
      "userId": "05590236537846667089"
     },
     "user_tz": -480
    },
    "id": "JOHc6VqSnP4h",
    "outputId": "7b3b2490-992c-4423-9ee6-147351c904d8"
   },
   "outputs": [
    {
     "data": {
      "image/png": "[encoded data removed]",
      "text/plain": [
       "<Figure size 432x288 with 1 Axes>"
      ]
     },
     "metadata": {
      "needs_background": "light"
     },
     "output_type": "display_data"
    },
    {
     "data": {
      "image/png": "[encoded data removed]",
      "text/plain": [
       "<Figure size 432x288 with 1 Axes>"
      ]
     },
     "metadata": {
      "needs_background": "light"
     },
     "output_type": "display_data"
    },
    {
     "data": {
      "image/png": "[encoded data removed]",
      "text/plain": [
       "<Figure size 432x288 with 1 Axes>"
      ]
     },
     "metadata": {
      "needs_background": "light"
     },
     "output_type": "display_data"
    }
   ],
   "source": [
    "# Plot histogram for the range of num_reviews\n",
    "\n",
    "# LINEAR SCALE\n",
    "p1 = df_product_numreviews.plot.hist(alpha = 0.7, bins=836, color='g')\n",
    "p1.set_xlabel('Number of Reviews')\n",
    "p1.set_ylabel('Number of Products')\n",
    "p1.set_title('Review Distribution (by Number of Products)')\n",
    "p1.get_legend().remove()\n",
    "\n",
    "# LOG SCALE\n",
    "p2 = df_product_numreviews.plot.hist(alpha = 0.7, bins=836, log=True, color='g')\n",
    "p2.set_xlabel('Number of Reviews')\n",
    "p2.set_ylabel('log (Number of Products)')\n",
    "p2.set_title('Review Distribution (by Number of Products)')\n",
    "p2.get_legend().remove()\n",
    "\n",
    "# LINEAR SCALE\n",
    "p3 = df_product_numreviews.plot.hist(range = (0,100), alpha = 0.7, bins=101, color='g')\n",
    "p3.set_xlabel('Number of Reviews')\n",
    "p3.set_ylabel('Number of Products')\n",
    "p3.set_title('Review Distribution (by Number of Products)')\n",
    "p3.get_legend().remove()\n",
    "\n",
    "plt.show()"
   ]
  },
  {
   "cell_type": "markdown",
   "metadata": {
    "colab_type": "text",
    "id": "moIGCNNNZrd3"
   },
   "source": [
    "### Plot 2 - NUMBER OF REVIEWERS (y) against NUMBER OF REVIEWS (x) "
   ]
  },
  {
   "cell_type": "markdown",
   "metadata": {
    "colab_type": "text",
    "id": "kWwVh_qFO3NC"
   },
   "source": [
    "**Plot histograms to show the reviews distribution by number of reviewers:  \n",
    "(1) Linear scale     \n",
    "(2) log scale**"
   ]
  },
  {
   "cell_type": "code",
   "execution_count": 14,
   "metadata": {
    "colab": {
     "base_uri": "https://localhost:8080/",
     "height": 573
    },
    "colab_type": "code",
    "executionInfo": {
     "elapsed": 1734,
     "status": "ok",
     "timestamp": 1584425626954,
     "user": {
      "displayName": "Samuel Samsudin Ng",
      "photoUrl": "",
      "userId": "05590236537846667089"
     },
     "user_tz": -480
    },
    "id": "fRuQKheqnP4w",
    "outputId": "11f4c326-8925-45c4-eb33-c422e913e352"
   },
   "outputs": [
    {
     "data": {
      "image/png": "[encoded data removed]",
      "text/plain": [
       "<Figure size 432x288 with 1 Axes>"
      ]
     },
     "metadata": {
      "needs_background": "light"
     },
     "output_type": "display_data"
    },
    {
     "data": {
      "image/png": "[encoded data removed]",
      "text/plain": [
       "<Figure size 432x288 with 1 Axes>"
      ]
     },
     "metadata": {
      "needs_background": "light"
     },
     "output_type": "display_data"
    },
    {
     "data": {
      "image/png": "[encoded data removed]",
      "text/plain": [
       "<Figure size 432x288 with 1 Axes>"
      ]
     },
     "metadata": {
      "needs_background": "light"
     },
     "output_type": "display_data"
    }
   ],
   "source": [
    "# Plot histogram for the range of num_reviews\n",
    "\n",
    "# LINEAR SCALE\n",
    "r1 = df_reviewer_numreviews.plot.hist(alpha = 0.6, bins=152, color='b')\n",
    "r1.set_xlabel('Number of Reviews')\n",
    "r1.set_ylabel('Number of Reviewers')\n",
    "r1.set_title('Review Distribution (by Number of Reviewers)')\n",
    "r1.get_legend().remove()\n",
    "\n",
    "# LOG SCALE\n",
    "r2 = df_reviewer_numreviews.plot.hist(alpha = 0.6, bins=152, log=True, color='b')\n",
    "r2.set_xlabel('Number of Reviews')\n",
    "r2.set_ylabel('log (Number of Reviewers)')\n",
    "r2.set_title('Review Distribution (by Number of Reviewers)')\n",
    "r2.get_legend().remove()\n",
    "\n",
    "# LINEAR SCALE\n",
    "r3 = df_reviewer_numreviews.plot.hist(range = (0,40), alpha = 0.6, bins=41, color='b')\n",
    "r3.set_xlabel('Number of Reviews')\n",
    "r3.set_ylabel('Number of Reviewers')\n",
    "r3.set_title('Review Distribution (by Number of Reviewers)')\n",
    "r3.get_legend().remove()\n",
    "\n",
    "plt.show()"
   ]
  },
  {
   "cell_type": "markdown",
   "metadata": {
    "colab_type": "text",
    "id": "jkmluwvHZvtQ"
   },
   "source": [
    "### Plot 3 - One plot for each group of reviewers: most active, active, average, not very active, not active.   \n",
    "**Set criteria for reviewer activity levels (based on average number of reviews over 10 years 2005 to 2014 (2001 to 2004 not counted)**   \n",
    "**MOST ACTIVE:**     more than 6 reviews/year = 61 to 152 total reviews      \n",
    "**ACTIVE:**          3 to 6 reviews/year =  31 to 60 total reviews   \n",
    "**AVERAGE:**         2 to 3 reviews/year = 21 to 30 total reviews    \n",
    "**NOT VERY ACTIVE:** 1 to 2 reviews/year = 10 to 20 total reviews           \n",
    "**NOT ACTIVE:**      less than 1 review/year = 1 to 9 total reviews  "
   ]
  },
  {
   "cell_type": "markdown",
   "metadata": {
    "colab_type": "text",
    "id": "QBVG97vvO3NI"
   },
   "source": [
    "**Plot the reviews distribution for each group of reviewers.  \n",
    "For 'Not Active' reviewers: plot (1) linear scale (2) log scale**"
   ]
  },
  {
   "cell_type": "code",
   "execution_count": 15,
   "metadata": {
    "colab": {
     "base_uri": "https://localhost:8080/",
     "height": 1000
    },
    "colab_type": "code",
    "executionInfo": {
     "elapsed": 2748,
     "status": "ok",
     "timestamp": 1584425724450,
     "user": {
      "displayName": "Samuel Samsudin Ng",
      "photoUrl": "",
      "userId": "05590236537846667089"
     },
     "user_tz": -480
    },
    "id": "eDwGs-h0-v70",
    "outputId": "7b4154d8-8299-47d4-a27c-d9f900c556d4"
   },
   "outputs": [
    {
     "data": {
      "image/png": "[encoded data removed]",
      "text/plain": [
       "<Figure size 432x288 with 1 Axes>"
      ]
     },
     "metadata": {
      "needs_background": "light"
     },
     "output_type": "display_data"
    },
    {
     "data": {
      "image/png": "[encoded data removed]",
      "text/plain": [
       "<Figure size 432x288 with 1 Axes>"
      ]
     },
     "metadata": {
      "needs_background": "light"
     },
     "output_type": "display_data"
    },
    {
     "data": {
      "image/png": "[encoded data removed]",
      "text/plain": [
       "<Figure size 432x288 with 1 Axes>"
      ]
     },
     "metadata": {
      "needs_background": "light"
     },
     "output_type": "display_data"
    },
    {
     "data": {
      "image/png": "[encoded data removed]",
      "text/plain": [
       "<Figure size 432x288 with 1 Axes>"
      ]
     },
     "metadata": {
      "needs_background": "light"
     },
     "output_type": "display_data"
    },
    {
     "data": {
      "image/png": "[encoded data removed]",
      "text/plain": [
       "<Figure size 432x288 with 1 Axes>"
      ]
     },
     "metadata": {
      "needs_background": "light"
     },
     "output_type": "display_data"
    },
    {
     "data": {
      "image/png": "[encoded data removed]",
      "text/plain": [
       "<Figure size 432x288 with 1 Axes>"
      ]
     },
     "metadata": {
      "needs_background": "light"
     },
     "output_type": "display_data"
    }
   ],
   "source": [
    "most = df_reviewer_numreviews.plot.hist(range=[61,152], alpha = 0.7, bins=92, color='r')\n",
    "most.set_xlabel('Number of Reviews')\n",
    "most.set_ylabel('Number of Reviewers')\n",
    "most.set_title('Review Distribution (Most Active Reviewers)')\n",
    "most.get_legend().remove()\n",
    "\n",
    "above = df_reviewer_numreviews.plot.hist(range=[31,60], alpha = 1.0, bins=59, color='y')\n",
    "above.set_xlabel('Number of Reviews')\n",
    "above.set_ylabel('Number of Reviewers')\n",
    "above.set_title('Review Distribution (Active Reviewers)')\n",
    "above.get_legend().remove()\n",
    "\n",
    "average = df_reviewer_numreviews.plot.hist(range=[21,30], alpha = 0.6, bins=19, color='b')\n",
    "average.set_xlabel('Number of Reviews')\n",
    "average.set_ylabel('Number of Reviewers')\n",
    "average.set_title('Review Distribution (Average Reviewers)')\n",
    "average.get_legend().remove()\n",
    "\n",
    "below = df_reviewer_numreviews.plot.hist(range=[10,20], alpha = 0.5, bins=21, color='g')\n",
    "below.set_xlabel('Number of Reviews')\n",
    "below.set_ylabel('Number of Reviewers')\n",
    "below.set_title('Review Distribution (Not Very Active Reviewers)')\n",
    "below.get_legend().remove()\n",
    "\n",
    "# LINEAR SCALE\n",
    "least = df_reviewer_numreviews.plot.hist(range=[1,9], alpha = 0.8, bins=17, color='grey')\n",
    "least.set_xlabel('Number of Reviews')\n",
    "least.set_ylabel('Number of Reviewers')\n",
    "least.set_title('Review Distribution (Not Active Reviewers)')\n",
    "least.get_legend().remove()\n",
    "\n",
    "# LOG SCALE\n",
    "least = df_reviewer_numreviews.plot.hist(range=[1,9], alpha = 0.8, bins=17, log = True, color='grey')\n",
    "least.set_xlabel('Number of Reviews')\n",
    "least.set_ylabel('log (Number of Reviewers)')\n",
    "least.set_title('Review Distribution (Not Active Reviewers)')\n",
    "least.get_legend().remove()\n",
    "\n",
    "plt.show()"
   ]
  },
  {
   "cell_type": "markdown",
   "metadata": {
    "colab_type": "text",
    "id": "2HNPZ_WObn6L"
   },
   "source": [
    "## Plot 4 - For each group of reviewers, plot the rating (1.0 to 5.0) distribution."
   ]
  },
  {
   "cell_type": "markdown",
   "metadata": {
    "colab_type": "text",
    "id": "8EmijQ-kO3NO"
   },
   "source": [
    "**Create a DataFrame with these columns - reviewerID, overall, num_reviews.**"
   ]
  },
  {
   "cell_type": "code",
   "execution_count": 16,
   "metadata": {
    "colab": {},
    "colab_type": "code",
    "id": "2VCBDIgRO3NO",
    "outputId": "1b9ab1c2-268b-4ae1-d519-bfeae99c3bb5"
   },
   "outputs": [
    {
     "data": {
      "text/html": [
       "<div>\n",
       "<style scoped>\n",
       "    .dataframe tbody tr th:only-of-type {\n",
       "        vertical-align: middle;\n",
       "    }\n",
       "\n",
       "    .dataframe tbody tr th {\n",
       "        vertical-align: top;\n",
       "    }\n",
       "\n",
       "    .dataframe thead th {\n",
       "        text-align: right;\n",
       "    }\n",
       "</style>\n",
       "<table border=\"1\" class=\"dataframe\">\n",
       "  <thead>\n",
       "    <tr style=\"text-align: right;\">\n",
       "      <th></th>\n",
       "      <th>reviewerID</th>\n",
       "      <th>num_reviews</th>\n",
       "    </tr>\n",
       "  </thead>\n",
       "  <tbody>\n",
       "    <tr>\n",
       "      <th>0</th>\n",
       "      <td>A2NYK9KWFMJV4Y</td>\n",
       "      <td>152</td>\n",
       "    </tr>\n",
       "    <tr>\n",
       "      <th>1</th>\n",
       "      <td>A22CW0ZHY3NJH8</td>\n",
       "      <td>138</td>\n",
       "    </tr>\n",
       "  </tbody>\n",
       "</table>\n",
       "</div>"
      ],
      "text/plain": [
       "       reviewerID  num_reviews\n",
       "0  A2NYK9KWFMJV4Y          152\n",
       "1  A22CW0ZHY3NJH8          138"
      ]
     },
     "execution_count": 16,
     "metadata": {},
     "output_type": "execute_result"
    }
   ],
   "source": [
    "# (5) Re-create 2-column DataFrames previously created in (3): reviewerID num_reviews\n",
    "\n",
    "df_reviewer_numreviews = df_all_reviews.reviewerID.value_counts().reset_index()\n",
    "df_reviewer_numreviews.columns = ['reviewerID', 'num_reviews']\n",
    "df_reviewer_numreviews.head(2)"
   ]
  },
  {
   "cell_type": "code",
   "execution_count": 17,
   "metadata": {
    "colab": {},
    "colab_type": "code",
    "id": "_q_sWLQhO3NT",
    "outputId": "234cb52a-d5a4-4d67-ebc7-72e410040012"
   },
   "outputs": [
    {
     "data": {
      "text/html": [
       "<div>\n",
       "<style scoped>\n",
       "    .dataframe tbody tr th:only-of-type {\n",
       "        vertical-align: middle;\n",
       "    }\n",
       "\n",
       "    .dataframe tbody tr th {\n",
       "        vertical-align: top;\n",
       "    }\n",
       "\n",
       "    .dataframe thead th {\n",
       "        text-align: right;\n",
       "    }\n",
       "</style>\n",
       "<table border=\"1\" class=\"dataframe\">\n",
       "  <thead>\n",
       "    <tr style=\"text-align: right;\">\n",
       "      <th></th>\n",
       "      <th>reviewerID</th>\n",
       "      <th>overall</th>\n",
       "    </tr>\n",
       "  </thead>\n",
       "  <tbody>\n",
       "    <tr>\n",
       "      <th>0</th>\n",
       "      <td>ASY55RVNIL0UD</td>\n",
       "      <td>5.0</td>\n",
       "    </tr>\n",
       "    <tr>\n",
       "      <th>1</th>\n",
       "      <td>A2TMXE2AFO7ONB</td>\n",
       "      <td>5.0</td>\n",
       "    </tr>\n",
       "  </tbody>\n",
       "</table>\n",
       "</div>"
      ],
      "text/plain": [
       "       reviewerID  overall\n",
       "0   ASY55RVNIL0UD      5.0\n",
       "1  A2TMXE2AFO7ONB      5.0"
      ]
     },
     "execution_count": 17,
     "metadata": {},
     "output_type": "execute_result"
    }
   ],
   "source": [
    "# (6) Create 2-column DataFrame: reviewerID overall\n",
    "\n",
    "df_reviewer_rating = df_all_reviews[['reviewerID','overall']]\n",
    "df_reviewer_rating.head(2)"
   ]
  },
  {
   "cell_type": "code",
   "execution_count": 18,
   "metadata": {
    "colab": {},
    "colab_type": "code",
    "id": "-mWDJBS1O3NX",
    "outputId": "e12d3e8e-7953-477e-a71a-0accc681f8c4"
   },
   "outputs": [
    {
     "data": {
      "text/html": [
       "<div>\n",
       "<style scoped>\n",
       "    .dataframe tbody tr th:only-of-type {\n",
       "        vertical-align: middle;\n",
       "    }\n",
       "\n",
       "    .dataframe tbody tr th {\n",
       "        vertical-align: top;\n",
       "    }\n",
       "\n",
       "    .dataframe thead th {\n",
       "        text-align: right;\n",
       "    }\n",
       "</style>\n",
       "<table border=\"1\" class=\"dataframe\">\n",
       "  <thead>\n",
       "    <tr style=\"text-align: right;\">\n",
       "      <th></th>\n",
       "      <th>reviewerID</th>\n",
       "      <th>overall</th>\n",
       "      <th>num_reviews</th>\n",
       "    </tr>\n",
       "  </thead>\n",
       "  <tbody>\n",
       "    <tr>\n",
       "      <th>0</th>\n",
       "      <td>ASY55RVNIL0UD</td>\n",
       "      <td>5.0</td>\n",
       "      <td>5</td>\n",
       "    </tr>\n",
       "    <tr>\n",
       "      <th>1</th>\n",
       "      <td>ASY55RVNIL0UD</td>\n",
       "      <td>5.0</td>\n",
       "      <td>5</td>\n",
       "    </tr>\n",
       "  </tbody>\n",
       "</table>\n",
       "</div>"
      ],
      "text/plain": [
       "      reviewerID  overall  num_reviews\n",
       "0  ASY55RVNIL0UD      5.0            5\n",
       "1  ASY55RVNIL0UD      5.0            5"
      ]
     },
     "execution_count": 18,
     "metadata": {},
     "output_type": "execute_result"
    }
   ],
   "source": [
    "# (7) Merge (5) and (6) to get 3-column DataFrame: reviewerID overall num_reviews\n",
    "\n",
    "df_reviewer_rating_numreviews = pd.merge(df_reviewer_rating, df_reviewer_numreviews, on = 'reviewerID')\n",
    "df_reviewer_rating_numreviews.head(2)"
   ]
  },
  {
   "cell_type": "markdown",
   "metadata": {
    "colab_type": "text",
    "id": "2bq341yWO3Nb"
   },
   "source": [
    "**CRITERIA**   \n",
    "**MOST ACTIVE:**     more than 6 reviews/year = 61 to 152 total reviews      \n",
    "**ACTIVE:**          3 to 6 reviews/year =  31 to 60 total reviews   \n",
    "**AVERAGE:**         2 to 3 reviews/year = 21 to 30 total reviews    \n",
    "**NOT VERY ACTIVE:** 1 to 2 reviews/year = 10 to 20 total reviews           \n",
    "**NOT ACTIVE:**      less than 1 review/year = 1 to 9 total reviews  "
   ]
  },
  {
   "cell_type": "markdown",
   "metadata": {
    "colab_type": "text",
    "id": "MRPQoOdAO3Nd"
   },
   "source": [
    "**Partition the DataFrame into the five groups of reviewers.**"
   ]
  },
  {
   "cell_type": "code",
   "execution_count": 19,
   "metadata": {
    "colab": {},
    "colab_type": "code",
    "id": "4xJN4qUNO3Nd",
    "outputId": "3fd9d53d-ae7a-435f-c735-9f3b40d8d7c7"
   },
   "outputs": [
    {
     "name": "stdout",
     "output_type": "stream",
     "text": [
      "NUMBER OF REVIEWS \n",
      "\n",
      "Very active:  2733\n",
      "Active:  3072\n",
      "Average:  5151\n",
      "Not very active:  34420\n",
      "Not active:  145543\n"
     ]
    }
   ],
   "source": [
    "# Partition (7) into 5 DataFrames, one for each group of reviewers (most, above, average, below, least) \n",
    "\n",
    "df = df_reviewer_rating_numreviews\n",
    "\n",
    "df_rating_most = df.loc[(df['num_reviews']>=61) & (df['num_reviews']<=152)]\n",
    "df_rating_above = df.loc[(df['num_reviews']>=31) & (df['num_reviews']<=60)]\n",
    "df_rating_average = df.loc[(df['num_reviews']>=21) & (df['num_reviews']<=30)]\n",
    "df_rating_below = df.loc[(df['num_reviews']>=10) & (df['num_reviews']<=20)]\n",
    "df_rating_least = df.loc[(df['num_reviews']>=1) & (df['num_reviews']<=9)]\n",
    "\n",
    "print('NUMBER OF REVIEWS \\n')\n",
    "print('Very active: ', len(df_rating_most))\n",
    "print('Active: ', len(df_rating_above))\n",
    "print('Average: ', len(df_rating_average))\n",
    "print('Not very active: ', len(df_rating_below))\n",
    "print('Not active: ', len(df_rating_least)) "
   ]
  },
  {
   "cell_type": "markdown",
   "metadata": {
    "colab_type": "text",
    "id": "hgGuJ49zO3Nl"
   },
   "source": [
    "**Create the ratings distribution for each group of reviewers.**"
   ]
  },
  {
   "cell_type": "code",
   "execution_count": 20,
   "metadata": {
    "colab": {},
    "colab_type": "code",
    "id": "L7JubhKhO3Nl",
    "outputId": "bbf20563-658e-4047-aeb0-9e21280eb0a5"
   },
   "outputs": [
    {
     "name": "stdout",
     "output_type": "stream",
     "text": [
      "      overall\n",
      "1226      3.0\n",
      "1227      4.0\n",
      "      overall\n",
      "1368      5.0\n",
      "1369      5.0\n",
      "     overall\n",
      "251      5.0\n",
      "252      1.0\n",
      "    overall\n",
      "18      5.0\n",
      "19      3.0\n",
      "   overall\n",
      "0      5.0\n",
      "1      5.0\n"
     ]
    }
   ],
   "source": [
    "# For each group of reviewers, create a 1-column DataFrame: overall\n",
    "\n",
    "df_rating_most = df_rating_most[['overall']]\n",
    "df_rating_above = df_rating_above[['overall']]\n",
    "df_rating_average = df_rating_average[['overall']]\n",
    "df_rating_below = df_rating_below[['overall']]\n",
    "df_rating_least = df_rating_least[['overall']]\n",
    "\n",
    "# Sanity check\n",
    "print(df_rating_most.head(2))\n",
    "print(df_rating_above.head(2))\n",
    "print(df_rating_average.head(2))\n",
    "print(df_rating_below.head(2))\n",
    "print(df_rating_least.head(2))"
   ]
  },
  {
   "cell_type": "code",
   "execution_count": 21,
   "metadata": {
    "colab": {},
    "colab_type": "code",
    "id": "DRvDKGjjO3Np",
    "outputId": "1527c02b-85a4-40dc-b7c1-a6a956ebe7f6"
   },
   "outputs": [
    {
     "name": "stdout",
     "output_type": "stream",
     "text": [
      "RATINGS DISTRIBUTION \n",
      "\n",
      "Most Active\n",
      "   rating  num_reviews\n",
      "0     5.0         2048\n",
      "1     4.0          546\n",
      "2     3.0          100\n",
      "3     2.0           28\n",
      "4     1.0           11\n",
      "Active\n",
      "   rating  num_reviews\n",
      "0     5.0         1931\n",
      "1     4.0          700\n",
      "2     3.0          265\n",
      "3     2.0          114\n",
      "4     1.0           62\n",
      "Average\n",
      "   rating  num_reviews\n",
      "0     5.0         2928\n",
      "1     4.0         1171\n",
      "2     3.0          571\n",
      "3     2.0          260\n",
      "4     1.0          221\n",
      "Not Very Active\n",
      "   rating  num_reviews\n",
      "0     5.0        19272\n",
      "1     4.0         7450\n",
      "2     3.0         3860\n",
      "3     1.0         2024\n",
      "4     2.0         1814\n",
      "Not Active\n",
      "   rating  num_reviews\n",
      "0     5.0        80394\n",
      "1     4.0        29437\n",
      "2     3.0        16279\n",
      "3     1.0        10760\n",
      "4     2.0         8673\n"
     ]
    }
   ],
   "source": [
    "# (8) For each DataFrame, create a DataFrame for number of reviews per rating \n",
    "\n",
    "df_rating_numreviews_most = df_rating_most.overall.value_counts().reset_index()\n",
    "df_rating_numreviews_most.columns = ['rating', 'num_reviews']\n",
    "\n",
    "df_rating_numreviews_above = df_rating_above.overall.value_counts().reset_index()\n",
    "df_rating_numreviews_above.columns = ['rating', 'num_reviews']\n",
    "\n",
    "df_rating_numreviews_average = df_rating_average.overall.value_counts().reset_index()\n",
    "df_rating_numreviews_average.columns = ['rating', 'num_reviews']\n",
    "\n",
    "df_rating_numreviews_below = df_rating_below.overall.value_counts().reset_index()\n",
    "df_rating_numreviews_below.columns = ['rating', 'num_reviews']\n",
    "\n",
    "df_rating_numreviews_least = df_rating_least.overall.value_counts().reset_index()\n",
    "df_rating_numreviews_least.columns = ['rating', 'num_reviews']\n",
    "\n",
    "print('RATINGS DISTRIBUTION \\n')\n",
    "print('Most Active')\n",
    "print(df_rating_numreviews_most)\n",
    "print('Active')\n",
    "print(df_rating_numreviews_above)\n",
    "print('Average')\n",
    "print(df_rating_numreviews_average)\n",
    "print('Not Very Active')\n",
    "print(df_rating_numreviews_below)\n",
    "print('Not Active')\n",
    "print(df_rating_numreviews_least)"
   ]
  },
  {
   "cell_type": "markdown",
   "metadata": {
    "colab_type": "text",
    "id": "VClo431bO3Nt"
   },
   "source": [
    "**Use lists for easy plotting of bar plots.**"
   ]
  },
  {
   "cell_type": "code",
   "execution_count": 22,
   "metadata": {
    "colab": {},
    "colab_type": "code",
    "id": "8Pk9OT1yO3Nu",
    "outputId": "04a72f20-3ba2-4eaf-f76c-a2b05bdc0527"
   },
   "outputs": [
    {
     "name": "stdout",
     "output_type": "stream",
     "text": [
      "[11, 28, 100, 546, 2048]\n",
      "[62, 114, 265, 700, 1931]\n",
      "[221, 260, 571, 1171, 2928]\n",
      "[2024, 1814, 3860, 7450, 19272]\n",
      "[10760, 8673, 16279, 29437, 80394]\n"
     ]
    }
   ],
   "source": [
    "# First, convert the DataFrame column 'num_reviews' in (8) to Lists, sorted by ratings from 1.0 to 5.0\n",
    "# To use pandas plot() \n",
    "\n",
    "rating_numreviews_most = df_rating_numreviews_most.sort_values(['rating'])['num_reviews'].tolist()\n",
    "rating_numreviews_above = df_rating_numreviews_above.sort_values(['rating'])['num_reviews'].tolist()\n",
    "rating_numreviews_average = df_rating_numreviews_average.sort_values(['rating'])['num_reviews'].tolist()\n",
    "rating_numreviews_below = df_rating_numreviews_below.sort_values(['rating'])['num_reviews'].tolist()\n",
    "rating_numreviews_least = df_rating_numreviews_least.sort_values(['rating'])['num_reviews'].tolist()\n",
    "\n",
    "# Sanity check\n",
    "print(rating_numreviews_most)\n",
    "print(rating_numreviews_above)\n",
    "print(rating_numreviews_average)\n",
    "print(rating_numreviews_below)\n",
    "print(rating_numreviews_least)"
   ]
  },
  {
   "cell_type": "markdown",
   "metadata": {
    "colab_type": "text",
    "id": "4kCXUQXbO3Nx"
   },
   "source": [
    "**Plot the ratings distributions**"
   ]
  },
  {
   "cell_type": "code",
   "execution_count": 23,
   "metadata": {
    "colab": {},
    "colab_type": "code",
    "id": "6ycW5AZwO3Nz",
    "outputId": "29e9653e-3bc1-4cc7-be71-39576b103713"
   },
   "outputs": [
    {
     "data": {
      "text/plain": [
       "Text(0.5, 1.0, 'Rating Distribution (Most Active Reviewers)')"
      ]
     },
     "execution_count": 23,
     "metadata": {},
     "output_type": "execute_result"
    },
    {
     "data": {
      "image/png": "[encoded data removed]",
      "text/plain": [
       "<Figure size 432x288 with 1 Axes>"
      ]
     },
     "metadata": {
      "needs_background": "light"
     },
     "output_type": "display_data"
    }
   ],
   "source": [
    "# Then convert the list to a Series, and plot the Series\n",
    "\n",
    "# x-axis labels\n",
    "rating = ['1.0', '2.0', '3.0', '4.0', '5.0']\n",
    "\n",
    "most = pd.Series(rating_numreviews_most, rating).plot(kind='bar', alpha = 0.6,color='r')\n",
    "most.set_xlabel('Rating')\n",
    "most.set_ylabel('Number of Reviews')\n",
    "most.set_title('Rating Distribution (Most Active Reviewers)')"
   ]
  },
  {
   "cell_type": "code",
   "execution_count": 24,
   "metadata": {
    "colab": {},
    "colab_type": "code",
    "id": "plmPFASHO3OA",
    "outputId": "33dd50f3-8ca8-4ddf-f182-56f59b9aa8f9"
   },
   "outputs": [
    {
     "data": {
      "text/plain": [
       "Text(0.5, 1.0, 'Rating Distribution (Active Reviewers)')"
      ]
     },
     "execution_count": 24,
     "metadata": {},
     "output_type": "execute_result"
    },
    {
     "data": {
      "image/png": "[encoded data removed]",
      "text/plain": [
       "<Figure size 432x288 with 1 Axes>"
      ]
     },
     "metadata": {
      "needs_background": "light"
     },
     "output_type": "display_data"
    }
   ],
   "source": [
    "above = pd.Series(rating_numreviews_above, rating).plot(kind='bar', alpha = 0.9, color='y')\n",
    "above.set_xlabel('Rating')\n",
    "above.set_ylabel('Number of Reviews')\n",
    "above.set_title('Rating Distribution (Active Reviewers)')"
   ]
  },
  {
   "cell_type": "code",
   "execution_count": 25,
   "metadata": {
    "colab": {},
    "colab_type": "code",
    "id": "458Jtmj-O3OE",
    "outputId": "a41a490c-1bf2-44d2-b8c5-977d9ab9149c"
   },
   "outputs": [
    {
     "data": {
      "text/plain": [
       "Text(0.5, 1.0, 'Rating Distribution (Average Reviewers)')"
      ]
     },
     "execution_count": 25,
     "metadata": {},
     "output_type": "execute_result"
    },
    {
     "data": {
      "image/png": "[encoded data removed]",
      "text/plain": [
       "<Figure size 432x288 with 1 Axes>"
      ]
     },
     "metadata": {
      "needs_background": "light"
     },
     "output_type": "display_data"
    }
   ],
   "source": [
    "average = pd.Series(rating_numreviews_average, rating).plot(kind='bar', alpha = 0.6,color='b')\n",
    "average.set_xlabel('Rating')\n",
    "average.set_ylabel('Number of Reviews')\n",
    "average.set_title('Rating Distribution (Average Reviewers)')"
   ]
  },
  {
   "cell_type": "code",
   "execution_count": 26,
   "metadata": {
    "colab": {},
    "colab_type": "code",
    "id": "djPwgya4O3OH",
    "outputId": "e72b5cec-dd5c-444b-97dd-9a676bdda652"
   },
   "outputs": [
    {
     "data": {
      "text/plain": [
       "Text(0.5, 1.0, 'Rating Distribution (Not Very Active Reviewers)')"
      ]
     },
     "execution_count": 26,
     "metadata": {},
     "output_type": "execute_result"
    },
    {
     "data": {
      "image/png": "[encoded data removed]",
      "text/plain": [
       "<Figure size 432x288 with 1 Axes>"
      ]
     },
     "metadata": {
      "needs_background": "light"
     },
     "output_type": "display_data"
    }
   ],
   "source": [
    "below = pd.Series(rating_numreviews_below, rating).plot(kind='bar', alpha = 0.7,color='g')\n",
    "below.set_xlabel('Rating')\n",
    "below.set_ylabel('Number of Reviews')\n",
    "below.set_title('Rating Distribution (Not Very Active Reviewers)')"
   ]
  },
  {
   "cell_type": "code",
   "execution_count": 27,
   "metadata": {
    "colab": {},
    "colab_type": "code",
    "id": "b3ad0pGeO3OK",
    "outputId": "273c1e6a-3c01-4db4-96ad-7ee4f6f21cc2"
   },
   "outputs": [
    {
     "data": {
      "text/plain": [
       "Text(0.5, 1.0, 'Rating Distribution (Not Active Reviewers)')"
      ]
     },
     "execution_count": 27,
     "metadata": {},
     "output_type": "execute_result"
    },
    {
     "data": {
      "image/png": "[encoded data removed]",
      "text/plain": [
       "<Figure size 432x288 with 1 Axes>"
      ]
     },
     "metadata": {
      "needs_background": "light"
     },
     "output_type": "display_data"
    }
   ],
   "source": [
    "least = pd.Series(rating_numreviews_least, rating).plot(kind='bar', alpha = 0.8, color='grey')\n",
    "least.set_xlabel('Rating')\n",
    "least.set_ylabel('Number of Reviews')\n",
    "least.set_title('Rating Distribution (Not Active Reviewers)')"
   ]
  },
  {
   "cell_type": "markdown",
   "metadata": {
    "colab_type": "text",
    "id": "BpvxoHV-aOEC"
   },
   "source": [
    "## 3.2.2 Sentence Segmentation\n",
    "### Plot 5 - NUMBER OF REVIEWS (y) against LENGTH OF REVIEW by SENTENCE (x) "
   ]
  },
  {
   "cell_type": "markdown",
   "metadata": {
    "colab_type": "text",
    "id": "5K6Exq86O3OO"
   },
   "source": [
    "**For each review, tokenize the text (by sentences) and count the number of sentences.**"
   ]
  },
  {
   "cell_type": "code",
   "execution_count": 28,
   "metadata": {
    "colab": {},
    "colab_type": "code",
    "id": "iQaiKG72O3OP"
   },
   "outputs": [
    {
     "name": "stderr",
     "output_type": "stream",
     "text": [
      "/home/ron/.local/lib/python3.6/site-packages/pandas/core/indexing.py:845: SettingWithCopyWarning: \n",
      "A value is trying to be set on a copy of a slice from a DataFrame.\n",
      "Try using .loc[row_indexer,col_indexer] = value instead\n",
      "\n",
      "See the caveats in the documentation: https://pandas.pydata.org/pandas-docs/stable/user_guide/indexing.html#returning-a-view-versus-a-copy\n",
      "  self.obj[key] = _infer_fill_value(value)\n",
      "/home/ron/.local/lib/python3.6/site-packages/pandas/core/indexing.py:966: SettingWithCopyWarning: \n",
      "A value is trying to be set on a copy of a slice from a DataFrame.\n",
      "Try using .loc[row_indexer,col_indexer] = value instead\n",
      "\n",
      "See the caveats in the documentation: https://pandas.pydata.org/pandas-docs/stable/user_guide/indexing.html#returning-a-view-versus-a-copy\n",
      "  self.obj[item] = s\n",
      "/home/ron/.local/lib/python3.6/site-packages/pandas/core/indexing.py:1048: SettingWithCopyWarning: \n",
      "A value is trying to be set on a copy of a slice from a DataFrame.\n",
      "Try using .loc[row_indexer,col_indexer] = value instead\n",
      "\n",
      "See the caveats in the documentation: https://pandas.pydata.org/pandas-docs/stable/user_guide/indexing.html#returning-a-view-versus-a-copy\n",
      "  self.obj[item_labels[indexer[info_axis]]] = value\n"
     ]
    }
   ],
   "source": [
    "# Create a 3-column DataFrame: reviewText tokenized_sentences num_sentences\n",
    "# The last two columns are blank\n",
    "\n",
    "df_review_sentence = df_all_reviews[['reviewText']]\n",
    "df_review_sentence.loc[:,'tokenized_sentences'] = \"\"\n",
    "df_review_sentence.loc[:,'tokenized_sentences'] = np.nan\n",
    "df_review_sentence.loc[:,'num_sentences'] = \"\"\n",
    "df_review_sentence.loc[:,'num_sentences'] = np.nan"
   ]
  },
  {
   "cell_type": "code",
   "execution_count": 29,
   "metadata": {
    "colab": {},
    "colab_type": "code",
    "id": "DMMtTxp3O3OS",
    "outputId": "a4446c72-4e21-4777-efa3-123f558faca2"
   },
   "outputs": [
    {
     "data": {
      "text/html": [
       "<div>\n",
       "<style scoped>\n",
       "    .dataframe tbody tr th:only-of-type {\n",
       "        vertical-align: middle;\n",
       "    }\n",
       "\n",
       "    .dataframe tbody tr th {\n",
       "        vertical-align: top;\n",
       "    }\n",
       "\n",
       "    .dataframe thead th {\n",
       "        text-align: right;\n",
       "    }\n",
       "</style>\n",
       "<table border=\"1\" class=\"dataframe\">\n",
       "  <thead>\n",
       "    <tr style=\"text-align: right;\">\n",
       "      <th></th>\n",
       "      <th>reviewText</th>\n",
       "      <th>tokenized_sentences</th>\n",
       "      <th>num_sentences</th>\n",
       "    </tr>\n",
       "  </thead>\n",
       "  <tbody>\n",
       "    <tr>\n",
       "      <th>0</th>\n",
       "      <td>These stickers work like the review says they ...</td>\n",
       "      <td>NaN</td>\n",
       "      <td>NaN</td>\n",
       "    </tr>\n",
       "    <tr>\n",
       "      <th>1</th>\n",
       "      <td>These are awesome and make my phone look so st...</td>\n",
       "      <td>NaN</td>\n",
       "      <td>NaN</td>\n",
       "    </tr>\n",
       "  </tbody>\n",
       "</table>\n",
       "</div>"
      ],
      "text/plain": [
       "                                          reviewText  tokenized_sentences  \\\n",
       "0  These stickers work like the review says they ...                  NaN   \n",
       "1  These are awesome and make my phone look so st...                  NaN   \n",
       "\n",
       "   num_sentences  \n",
       "0            NaN  \n",
       "1            NaN  "
      ]
     },
     "execution_count": 29,
     "metadata": {},
     "output_type": "execute_result"
    }
   ],
   "source": [
    "df_review_sentence.head(2)"
   ]
  },
  {
   "cell_type": "code",
   "execution_count": 30,
   "metadata": {
    "colab": {},
    "colab_type": "code",
    "id": "IQnfdn3HO3OV"
   },
   "outputs": [
    {
     "name": "stderr",
     "output_type": "stream",
     "text": [
      "/home/ron/.local/lib/python3.6/site-packages/ipykernel_launcher.py:1: SettingWithCopyWarning: \n",
      "A value is trying to be set on a copy of a slice from a DataFrame.\n",
      "Try using .loc[row_indexer,col_indexer] = value instead\n",
      "\n",
      "See the caveats in the documentation: https://pandas.pydata.org/pandas-docs/stable/user_guide/indexing.html#returning-a-view-versus-a-copy\n",
      "  \"\"\"Entry point for launching an IPython kernel.\n",
      "/home/ron/.local/lib/python3.6/site-packages/ipykernel_launcher.py:2: SettingWithCopyWarning: \n",
      "A value is trying to be set on a copy of a slice from a DataFrame.\n",
      "Try using .loc[row_indexer,col_indexer] = value instead\n",
      "\n",
      "See the caveats in the documentation: https://pandas.pydata.org/pandas-docs/stable/user_guide/indexing.html#returning-a-view-versus-a-copy\n",
      "  \n"
     ]
    }
   ],
   "source": [
    "df_review_sentence['tokenized_sentences'] = df_review_sentence.apply(lambda x: sent_tokenize(x['reviewText']), axis = 1)\n",
    "df_review_sentence['num_sentences'] = df_review_sentence.apply(lambda y: len(y['tokenized_sentences']), axis = 1)"
   ]
  },
  {
   "cell_type": "code",
   "execution_count": 31,
   "metadata": {
    "colab": {},
    "colab_type": "code",
    "id": "w12iEPe6O3OY",
    "outputId": "d05e202a-808e-473b-dd7f-8d971da99a47"
   },
   "outputs": [
    {
     "data": {
      "text/html": [
       "<div>\n",
       "<style scoped>\n",
       "    .dataframe tbody tr th:only-of-type {\n",
       "        vertical-align: middle;\n",
       "    }\n",
       "\n",
       "    .dataframe tbody tr th {\n",
       "        vertical-align: top;\n",
       "    }\n",
       "\n",
       "    .dataframe thead th {\n",
       "        text-align: right;\n",
       "    }\n",
       "</style>\n",
       "<table border=\"1\" class=\"dataframe\">\n",
       "  <thead>\n",
       "    <tr style=\"text-align: right;\">\n",
       "      <th></th>\n",
       "      <th>reviewText</th>\n",
       "      <th>tokenized_sentences</th>\n",
       "      <th>num_sentences</th>\n",
       "    </tr>\n",
       "  </thead>\n",
       "  <tbody>\n",
       "    <tr>\n",
       "      <th>0</th>\n",
       "      <td>These stickers work like the review says they ...</td>\n",
       "      <td>[These stickers work like the review says they...</td>\n",
       "      <td>4</td>\n",
       "    </tr>\n",
       "    <tr>\n",
       "      <th>1</th>\n",
       "      <td>These are awesome and make my phone look so st...</td>\n",
       "      <td>[These are awesome and make my phone look so s...</td>\n",
       "      <td>5</td>\n",
       "    </tr>\n",
       "    <tr>\n",
       "      <th>2</th>\n",
       "      <td>Item arrived in great time and was in perfect ...</td>\n",
       "      <td>[Item arrived in great time and was in perfect...</td>\n",
       "      <td>4</td>\n",
       "    </tr>\n",
       "  </tbody>\n",
       "</table>\n",
       "</div>"
      ],
      "text/plain": [
       "                                          reviewText  \\\n",
       "0  These stickers work like the review says they ...   \n",
       "1  These are awesome and make my phone look so st...   \n",
       "2  Item arrived in great time and was in perfect ...   \n",
       "\n",
       "                                 tokenized_sentences  num_sentences  \n",
       "0  [These stickers work like the review says they...              4  \n",
       "1  [These are awesome and make my phone look so s...              5  \n",
       "2  [Item arrived in great time and was in perfect...              4  "
      ]
     },
     "execution_count": 31,
     "metadata": {},
     "output_type": "execute_result"
    }
   ],
   "source": [
    "df_review_sentence.head(3)"
   ]
  },
  {
   "cell_type": "code",
   "execution_count": 32,
   "metadata": {
    "colab": {},
    "colab_type": "code",
    "id": "227aeG6xO3Ob",
    "outputId": "eba69697-5ec2-42cb-a9ca-001dde62b06f"
   },
   "outputs": [
    {
     "data": {
      "text/html": [
       "<div>\n",
       "<style scoped>\n",
       "    .dataframe tbody tr th:only-of-type {\n",
       "        vertical-align: middle;\n",
       "    }\n",
       "\n",
       "    .dataframe tbody tr th {\n",
       "        vertical-align: top;\n",
       "    }\n",
       "\n",
       "    .dataframe thead th {\n",
       "        text-align: right;\n",
       "    }\n",
       "</style>\n",
       "<table border=\"1\" class=\"dataframe\">\n",
       "  <thead>\n",
       "    <tr style=\"text-align: right;\">\n",
       "      <th></th>\n",
       "      <th>num_sentences</th>\n",
       "    </tr>\n",
       "  </thead>\n",
       "  <tbody>\n",
       "    <tr>\n",
       "      <th>0</th>\n",
       "      <td>4</td>\n",
       "    </tr>\n",
       "    <tr>\n",
       "      <th>1</th>\n",
       "      <td>5</td>\n",
       "    </tr>\n",
       "    <tr>\n",
       "      <th>2</th>\n",
       "      <td>4</td>\n",
       "    </tr>\n",
       "  </tbody>\n",
       "</table>\n",
       "</div>"
      ],
      "text/plain": [
       "   num_sentences\n",
       "0              4\n",
       "1              5\n",
       "2              4"
      ]
     },
     "execution_count": 32,
     "metadata": {},
     "output_type": "execute_result"
    }
   ],
   "source": [
    "# Create 1-column DataFrame for plotting histogram: num_sentences\n",
    "\n",
    "df_numsentences = df_review_sentence[['num_sentences']]\n",
    "df_numsentences.head(3)"
   ]
  },
  {
   "cell_type": "markdown",
   "metadata": {
    "colab_type": "text",
    "id": "o5zSt19NO3Of"
   },
   "source": [
    "**Get summary statistics for the number of sentences.**"
   ]
  },
  {
   "cell_type": "code",
   "execution_count": 33,
   "metadata": {
    "colab": {},
    "colab_type": "code",
    "id": "X0K1unhhO3Of",
    "outputId": "b9b0bb80-6a3d-4ee9-ef55-6075bdd9bd12"
   },
   "outputs": [
    {
     "name": "stdout",
     "output_type": "stream",
     "text": [
      "SUMMARY STATISTICS FOR LENGTHS OF REVIEWS \n",
      "\n",
      "Max number of sentences =  262\n",
      "Min number of sentences =  0 \n",
      "\n",
      "Mean number of sentences =  5.163294381386871\n",
      "Median number of sentences =  4.0\n"
     ]
    }
   ],
   "source": [
    "# SUMMARY STATISTICS\n",
    "\n",
    "print('SUMMARY STATISTICS FOR LENGTHS OF REVIEWS \\n')\n",
    "\n",
    "print('Max number of sentences = ',max(df_numsentences['num_sentences']))\n",
    "print('Min number of sentences = ',min(df_numsentences['num_sentences']),'\\n')\n",
    "print('Mean number of sentences = ',df_numsentences['num_sentences'].mean())\n",
    "print('Median number of sentences = ',df_numsentences['num_sentences'].median())"
   ]
  },
  {
   "cell_type": "markdown",
   "metadata": {
    "colab_type": "text",
    "id": "s0_A_IIrO3Oj"
   },
   "source": [
    "**Plot the distribution of review lengths (by number of sentences):  \n",
    "(1) Linear scale  \n",
    "(2) log scale**"
   ]
  },
  {
   "cell_type": "code",
   "execution_count": 34,
   "metadata": {
    "colab": {},
    "colab_type": "code",
    "id": "qDFb1IcI26fd",
    "outputId": "11bb2a2f-b8ed-4fc7-ee1f-aa2e638f3d71"
   },
   "outputs": [
    {
     "data": {
      "image/png": "[encoded data removed]",
      "text/plain": [
       "<Figure size 432x288 with 1 Axes>"
      ]
     },
     "metadata": {
      "needs_background": "light"
     },
     "output_type": "display_data"
    },
    {
     "data": {
      "image/png": "[encoded data removed]",
      "text/plain": [
       "<Figure size 432x288 with 1 Axes>"
      ]
     },
     "metadata": {
      "needs_background": "light"
     },
     "output_type": "display_data"
    },
    {
     "data": {
      "image/png": "[encoded data removed]",
      "text/plain": [
       "<Figure size 432x288 with 1 Axes>"
      ]
     },
     "metadata": {
      "needs_background": "light"
     },
     "output_type": "display_data"
    }
   ],
   "source": [
    "# LINEAR SCALE\n",
    "s1 = df_numsentences.plot.hist(alpha = 0.4, bins=263, color='r')\n",
    "s1.set_xlabel('Number of Sentences')\n",
    "s1.set_ylabel('Number of Reviews')\n",
    "s1.set_title('Review Length Distribution (by Sentences)')\n",
    "s1.get_legend().remove()\n",
    "\n",
    "# LOG SCALE\n",
    "s2 = df_numsentences.plot.hist(alpha = 0.4, bins=263, log = True, color='r')\n",
    "s2.set_xlabel('Number of Sentences')\n",
    "s2.set_ylabel('log (Number of Reviews)')\n",
    "s2.set_title('Review Length Distribution (by Sentences)')\n",
    "s2.get_legend().remove()\n",
    "\n",
    "# LINEAR SCALE\n",
    "s3 = df_numsentences.plot.hist(range = (0,50), alpha = 0.4, bins=51, color='r')\n",
    "s3.set_xlabel('Number of Sentences')\n",
    "s3.set_ylabel('Number of Reviews')\n",
    "s3.set_title('Review Length Distribution (by Sentences)')\n",
    "s3.get_legend().remove()\n",
    "\n",
    "plt.show()"
   ]
  },
  {
   "cell_type": "markdown",
   "metadata": {
    "colab_type": "text",
    "id": "NZngvAG-3Nm0"
   },
   "source": [
    "## 3.2.3 Tokenization and Stemming\n",
    "### Plot 6 (no stemming) NUMBER OF REVIEWS (y) against LENGTH OF REVIEW by TOKENS (x) "
   ]
  },
  {
   "cell_type": "markdown",
   "metadata": {
    "colab_type": "text",
    "id": "7r604XZNO3On"
   },
   "source": [
    "**For each review:   \n",
    "(1) Tokenize the review (by word)   \n",
    "(2) Convert tokens to lowercase   \n",
    "(3) Stem the tokens   \n",
    "(4) Select only alphabetic whole and stemmed tokens   \n",
    "(5) Count the number of whole and stemmed tokens**"
   ]
  },
  {
   "cell_type": "code",
   "execution_count": 35,
   "metadata": {
    "colab": {},
    "colab_type": "code",
    "id": "e-LUORujO3On"
   },
   "outputs": [
    {
     "name": "stderr",
     "output_type": "stream",
     "text": [
      "/home/ron/.local/lib/python3.6/site-packages/pandas/core/indexing.py:845: SettingWithCopyWarning: \n",
      "A value is trying to be set on a copy of a slice from a DataFrame.\n",
      "Try using .loc[row_indexer,col_indexer] = value instead\n",
      "\n",
      "See the caveats in the documentation: https://pandas.pydata.org/pandas-docs/stable/user_guide/indexing.html#returning-a-view-versus-a-copy\n",
      "  self.obj[key] = _infer_fill_value(value)\n",
      "/home/ron/.local/lib/python3.6/site-packages/pandas/core/indexing.py:966: SettingWithCopyWarning: \n",
      "A value is trying to be set on a copy of a slice from a DataFrame.\n",
      "Try using .loc[row_indexer,col_indexer] = value instead\n",
      "\n",
      "See the caveats in the documentation: https://pandas.pydata.org/pandas-docs/stable/user_guide/indexing.html#returning-a-view-versus-a-copy\n",
      "  self.obj[item] = s\n",
      "/home/ron/.local/lib/python3.6/site-packages/pandas/core/indexing.py:1048: SettingWithCopyWarning: \n",
      "A value is trying to be set on a copy of a slice from a DataFrame.\n",
      "Try using .loc[row_indexer,col_indexer] = value instead\n",
      "\n",
      "See the caveats in the documentation: https://pandas.pydata.org/pandas-docs/stable/user_guide/indexing.html#returning-a-view-versus-a-copy\n",
      "  self.obj[item_labels[indexer[info_axis]]] = value\n"
     ]
    }
   ],
   "source": [
    "# Create a 3-column DataFrame: reviewText num_tokens_whole num_tokens_stemmed\n",
    "# The last two columns are blank\n",
    "\n",
    "df_review_word = df_all_reviews[['reviewText']]\n",
    "\n",
    "# to store unique whole tokens\n",
    "df_review_word.loc[:,'num_tokens_whole'] = \"\"\n",
    "df_review_word.loc[:,'num_tokens_whole'] = np.nan\n",
    "\n",
    "# to store unique stemmed tokens\n",
    "df_review_word.loc[:,'num_tokens_stemmed'] = \"\"\n",
    "df_review_word.loc[:,'num_tokens_stemmed'] = np.nan"
   ]
  },
  {
   "cell_type": "code",
   "execution_count": 36,
   "metadata": {
    "colab": {},
    "colab_type": "code",
    "id": "4-ypDTlCO3Oq",
    "outputId": "fedc28ce-af42-4688-f20d-5d7f7bd7bb4f"
   },
   "outputs": [
    {
     "data": {
      "text/html": [
       "<div>\n",
       "<style scoped>\n",
       "    .dataframe tbody tr th:only-of-type {\n",
       "        vertical-align: middle;\n",
       "    }\n",
       "\n",
       "    .dataframe tbody tr th {\n",
       "        vertical-align: top;\n",
       "    }\n",
       "\n",
       "    .dataframe thead th {\n",
       "        text-align: right;\n",
       "    }\n",
       "</style>\n",
       "<table border=\"1\" class=\"dataframe\">\n",
       "  <thead>\n",
       "    <tr style=\"text-align: right;\">\n",
       "      <th></th>\n",
       "      <th>reviewText</th>\n",
       "      <th>num_tokens_whole</th>\n",
       "      <th>num_tokens_stemmed</th>\n",
       "    </tr>\n",
       "  </thead>\n",
       "  <tbody>\n",
       "    <tr>\n",
       "      <th>0</th>\n",
       "      <td>These stickers work like the review says they ...</td>\n",
       "      <td>NaN</td>\n",
       "      <td>NaN</td>\n",
       "    </tr>\n",
       "    <tr>\n",
       "      <th>1</th>\n",
       "      <td>These are awesome and make my phone look so st...</td>\n",
       "      <td>NaN</td>\n",
       "      <td>NaN</td>\n",
       "    </tr>\n",
       "  </tbody>\n",
       "</table>\n",
       "</div>"
      ],
      "text/plain": [
       "                                          reviewText  num_tokens_whole  \\\n",
       "0  These stickers work like the review says they ...               NaN   \n",
       "1  These are awesome and make my phone look so st...               NaN   \n",
       "\n",
       "   num_tokens_stemmed  \n",
       "0                 NaN  \n",
       "1                 NaN  "
      ]
     },
     "execution_count": 36,
     "metadata": {},
     "output_type": "execute_result"
    }
   ],
   "source": [
    "df_review_word.head(2)"
   ]
  },
  {
   "cell_type": "code",
   "execution_count": 37,
   "metadata": {
    "colab": {},
    "colab_type": "code",
    "id": "wzakxwetO3Os"
   },
   "outputs": [
    {
     "name": "stderr",
     "output_type": "stream",
     "text": [
      "/home/ron/.local/lib/python3.6/site-packages/pandas/core/indexing.py:966: SettingWithCopyWarning: \n",
      "A value is trying to be set on a copy of a slice from a DataFrame.\n",
      "Try using .loc[row_indexer,col_indexer] = value instead\n",
      "\n",
      "See the caveats in the documentation: https://pandas.pydata.org/pandas-docs/stable/user_guide/indexing.html#returning-a-view-versus-a-copy\n",
      "  self.obj[item] = s\n"
     ]
    }
   ],
   "source": [
    "# For each row in df_review_word:\n",
    "# 1. Tokenize reviewText\n",
    "# 2. For each token: store unique whole tokens in token_whole, store unique stemmed tokens in token_stemmed \n",
    "# 3. Store unique token counts in df_review_word\n",
    "\n",
    "for i, row in df_review_word.iterrows():\n",
    "    tokens_whole = []\n",
    "    tokens_stemmed = []\n",
    "         \n",
    "    tokens = word_tokenize(row['reviewText'])\n",
    "    tokens1 = [w.lower() for w in tokens]\n",
    "    tokens2 = [PorterStemmer().stem(w) for w in tokens1]\n",
    "        \n",
    "    for t in tokens1:\n",
    "        if t.isalpha():\n",
    "            tokens_whole.append(t)\n",
    "        \n",
    "    for ts in tokens2:\n",
    "        if ts.isalpha():\n",
    "            tokens_stemmed.append(ts)\n",
    "\n",
    "    df_review_word.loc[i,'num_tokens_whole'] = len(set(tokens_whole)) \n",
    "    df_review_word.loc[i,'num_tokens_stemmed'] = len(set(tokens_stemmed))"
   ]
  },
  {
   "cell_type": "code",
   "execution_count": 38,
   "metadata": {
    "colab": {},
    "colab_type": "code",
    "id": "2U4mqOq_O3Ov"
   },
   "outputs": [],
   "source": [
    "# Create 1-column DataFrames for plots\n",
    "\n",
    "df_tokens_whole = df_review_word[['num_tokens_whole']]\n",
    "df_tokens_stemmed = df_review_word[['num_tokens_stemmed']]"
   ]
  },
  {
   "cell_type": "code",
   "execution_count": 39,
   "metadata": {
    "colab": {},
    "colab_type": "code",
    "id": "Z7s-CKcBO3Ox",
    "outputId": "be59716e-3078-4fbb-bf26-3c9801538f1c"
   },
   "outputs": [
    {
     "data": {
      "text/html": [
       "<div>\n",
       "<style scoped>\n",
       "    .dataframe tbody tr th:only-of-type {\n",
       "        vertical-align: middle;\n",
       "    }\n",
       "\n",
       "    .dataframe tbody tr th {\n",
       "        vertical-align: top;\n",
       "    }\n",
       "\n",
       "    .dataframe thead th {\n",
       "        text-align: right;\n",
       "    }\n",
       "</style>\n",
       "<table border=\"1\" class=\"dataframe\">\n",
       "  <thead>\n",
       "    <tr style=\"text-align: right;\">\n",
       "      <th></th>\n",
       "      <th>num_tokens_whole</th>\n",
       "    </tr>\n",
       "  </thead>\n",
       "  <tbody>\n",
       "    <tr>\n",
       "      <th>0</th>\n",
       "      <td>25.0</td>\n",
       "    </tr>\n",
       "    <tr>\n",
       "      <th>1</th>\n",
       "      <td>29.0</td>\n",
       "    </tr>\n",
       "    <tr>\n",
       "      <th>2</th>\n",
       "      <td>40.0</td>\n",
       "    </tr>\n",
       "    <tr>\n",
       "      <th>3</th>\n",
       "      <td>22.0</td>\n",
       "    </tr>\n",
       "    <tr>\n",
       "      <th>4</th>\n",
       "      <td>20.0</td>\n",
       "    </tr>\n",
       "  </tbody>\n",
       "</table>\n",
       "</div>"
      ],
      "text/plain": [
       "   num_tokens_whole\n",
       "0              25.0\n",
       "1              29.0\n",
       "2              40.0\n",
       "3              22.0\n",
       "4              20.0"
      ]
     },
     "execution_count": 39,
     "metadata": {},
     "output_type": "execute_result"
    }
   ],
   "source": [
    "# CHECK\n",
    "df_tokens_whole.head(5)"
   ]
  },
  {
   "cell_type": "code",
   "execution_count": 40,
   "metadata": {
    "colab": {},
    "colab_type": "code",
    "id": "fq1pwhoYO3O0",
    "outputId": "eb4d566a-72c4-43d6-a45c-657f0200ef14"
   },
   "outputs": [
    {
     "data": {
      "text/html": [
       "<div>\n",
       "<style scoped>\n",
       "    .dataframe tbody tr th:only-of-type {\n",
       "        vertical-align: middle;\n",
       "    }\n",
       "\n",
       "    .dataframe tbody tr th {\n",
       "        vertical-align: top;\n",
       "    }\n",
       "\n",
       "    .dataframe thead th {\n",
       "        text-align: right;\n",
       "    }\n",
       "</style>\n",
       "<table border=\"1\" class=\"dataframe\">\n",
       "  <thead>\n",
       "    <tr style=\"text-align: right;\">\n",
       "      <th></th>\n",
       "      <th>num_tokens_stemmed</th>\n",
       "    </tr>\n",
       "  </thead>\n",
       "  <tbody>\n",
       "    <tr>\n",
       "      <th>0</th>\n",
       "      <td>25.0</td>\n",
       "    </tr>\n",
       "    <tr>\n",
       "      <th>1</th>\n",
       "      <td>29.0</td>\n",
       "    </tr>\n",
       "    <tr>\n",
       "      <th>2</th>\n",
       "      <td>39.0</td>\n",
       "    </tr>\n",
       "    <tr>\n",
       "      <th>3</th>\n",
       "      <td>21.0</td>\n",
       "    </tr>\n",
       "    <tr>\n",
       "      <th>4</th>\n",
       "      <td>20.0</td>\n",
       "    </tr>\n",
       "  </tbody>\n",
       "</table>\n",
       "</div>"
      ],
      "text/plain": [
       "   num_tokens_stemmed\n",
       "0                25.0\n",
       "1                29.0\n",
       "2                39.0\n",
       "3                21.0\n",
       "4                20.0"
      ]
     },
     "execution_count": 40,
     "metadata": {},
     "output_type": "execute_result"
    }
   ],
   "source": [
    "# CHECK that num_tokens_stemmed <= num_tokens_whole \n",
    "df_tokens_stemmed.head(5)"
   ]
  },
  {
   "cell_type": "code",
   "execution_count": 41,
   "metadata": {
    "colab": {},
    "colab_type": "code",
    "id": "ujfGRn4BO3O4",
    "outputId": "2702767b-2672-4825-f8dd-63ef73ce4fc1"
   },
   "outputs": [
    {
     "name": "stdout",
     "output_type": "stream",
     "text": [
      "SUMMARY STATISTICS FOR LENGTHS OF REVIEWS\n",
      "\n",
      "Max number of whole tokens =  1453.0\n",
      "Min number of whole tokens =  0.0 \n",
      "\n",
      "Max number of stemmed tokens =  1224.0\n",
      "Min number of stemmed tokens =  0.0 \n",
      "\n",
      "Mean number of whole tokens =  55.64828539851979\n",
      "Median number of whole tokens =  37.0 \n",
      "\n",
      "Mean number of stemmed tokens =  53.87468507586987\n",
      "Median number of stemmed tokens =  36.0\n"
     ]
    }
   ],
   "source": [
    "# SUMMARY STATISTICS\n",
    "\n",
    "print('SUMMARY STATISTICS FOR LENGTHS OF REVIEWS\\n')\n",
    "print('Max number of whole tokens = ',max(df_tokens_whole['num_tokens_whole']))\n",
    "print('Min number of whole tokens = ',min(df_tokens_whole['num_tokens_whole']),'\\n')\n",
    "\n",
    "print('Max number of stemmed tokens = ',max(df_tokens_stemmed['num_tokens_stemmed']))\n",
    "print('Min number of stemmed tokens = ',min(df_tokens_stemmed['num_tokens_stemmed']),'\\n')\n",
    "\n",
    "print('Mean number of whole tokens = ',df_tokens_whole['num_tokens_whole'].mean())\n",
    "print('Median number of whole tokens = ',df_tokens_whole['num_tokens_whole'].median(),'\\n')\n",
    "\n",
    "print('Mean number of stemmed tokens = ',df_tokens_stemmed['num_tokens_stemmed'].mean())\n",
    "print('Median number of stemmed tokens = ',df_tokens_stemmed['num_tokens_stemmed'].median())"
   ]
  },
  {
   "cell_type": "markdown",
   "metadata": {
    "colab_type": "text",
    "id": "JgrLDeCLO3O7"
   },
   "source": [
    "### Plot 6 NUMBER OF REVIEWS (y) against LENGTH OF REVIEW by WHOLE TOKENS (x) "
   ]
  },
  {
   "cell_type": "markdown",
   "metadata": {
    "colab_type": "text",
    "id": "CzI1njiiO3O8"
   },
   "source": [
    "**Plot the distribution of review lengths (by number of whole tokens):  \n",
    "(1) Linear scale    \n",
    "(2) log scale**"
   ]
  },
  {
   "cell_type": "code",
   "execution_count": 42,
   "metadata": {
    "colab": {},
    "colab_type": "code",
    "id": "uQUARTm-3_cX",
    "outputId": "d6eac574-3ef1-408d-a7b5-cc72954a282a"
   },
   "outputs": [
    {
     "data": {
      "image/png": "[encoded data removed]",
      "text/plain": [
       "<Figure size 432x288 with 1 Axes>"
      ]
     },
     "metadata": {
      "needs_background": "light"
     },
     "output_type": "display_data"
    },
    {
     "data": {
      "image/png": "[encoded data removed]",
      "text/plain": [
       "<Figure size 432x288 with 1 Axes>"
      ]
     },
     "metadata": {
      "needs_background": "light"
     },
     "output_type": "display_data"
    },
    {
     "data": {
      "image/png": "[encoded data removed]",
      "text/plain": [
       "<Figure size 432x288 with 1 Axes>"
      ]
     },
     "metadata": {
      "needs_background": "light"
     },
     "output_type": "display_data"
    }
   ],
   "source": [
    "# LINEAR SCALE\n",
    "wt1 = df_tokens_whole.plot.hist(alpha = 0.6, bins=1454, color='g')\n",
    "wt1.set_xlabel('Number of Whole Tokens')\n",
    "wt1.set_ylabel('Number of Reviews')\n",
    "wt1.set_title('Review Length Distribution (by Whole Tokens)')\n",
    "wt1.get_legend().remove()\n",
    "\n",
    "# LOG SCALE\n",
    "wt2 = df_tokens_whole.plot.hist(alpha = 0.6, bins=1454, log=True, color='g')\n",
    "wt2.set_xlabel('Number of Whole Tokens')\n",
    "wt2.set_ylabel('log (Number of Reviews)')\n",
    "wt2.set_title('Review Length Distribution (by Whole Tokens)')\n",
    "wt2.get_legend().remove()\n",
    "\n",
    "# LINEAR SCALE\n",
    "wt3 = df_tokens_whole.plot.hist(range = (0,400), alpha = 0.6, bins=401, color='g')\n",
    "wt3.set_xlabel('Number of Whole Tokens')\n",
    "wt3.set_ylabel('Number of Reviews')\n",
    "wt3.set_title('Review Length Distribution (by Whole Tokens)')\n",
    "wt3.get_legend().remove()\n",
    "\n",
    "plt.show()"
   ]
  },
  {
   "cell_type": "markdown",
   "metadata": {
    "colab_type": "text",
    "id": "h9vTaumgO3O-"
   },
   "source": [
    "### Plot 7 NUMBER OF REVIEWS (y) against LENGTH OF REVIEW by STEMMED TOKENS (x) "
   ]
  },
  {
   "cell_type": "markdown",
   "metadata": {
    "colab_type": "text",
    "id": "NSdnZnIWO3O_"
   },
   "source": [
    "**Plot the distribution of review lengths (by number of stemmed tokens):   \n",
    "(1) Linear scale    \n",
    "(2) log scale**"
   ]
  },
  {
   "cell_type": "code",
   "execution_count": 43,
   "metadata": {
    "colab": {},
    "colab_type": "code",
    "id": "PRHzSDjHO3PA",
    "outputId": "915ad56e-d660-489a-93d7-2d95502cb4ed"
   },
   "outputs": [
    {
     "data": {
      "image/png": "[encoded data removed]",
      "text/plain": [
       "<Figure size 432x288 with 1 Axes>"
      ]
     },
     "metadata": {
      "needs_background": "light"
     },
     "output_type": "display_data"
    },
    {
     "data": {
      "image/png": "[encoded data removed]",
      "text/plain": [
       "<Figure size 432x288 with 1 Axes>"
      ]
     },
     "metadata": {
      "needs_background": "light"
     },
     "output_type": "display_data"
    },
    {
     "data": {
      "image/png": "[encoded data removed]",
      "text/plain": [
       "<Figure size 432x288 with 1 Axes>"
      ]
     },
     "metadata": {
      "needs_background": "light"
     },
     "output_type": "display_data"
    }
   ],
   "source": [
    "# LINEAR SCALE\n",
    "st1 = df_tokens_stemmed.plot.hist(alpha = 0.6, bins=1225, color='b')\n",
    "st1.set_xlabel('Number of Stemmed Tokens')\n",
    "st1.set_ylabel('Number of Reviews')\n",
    "st1.set_title('Review Length Distribution (by Stemmed Tokens)')\n",
    "st1.get_legend().remove()\n",
    "\n",
    "# LOG SCALE\n",
    "st2 = df_tokens_stemmed.plot.hist(alpha = 0.6, bins=1225, log=True, color='b')\n",
    "st2.set_xlabel('Number of Stemmed Tokens')\n",
    "st2.set_ylabel('log (Number of Reviews)')\n",
    "st2.set_title('Review Length Distribution (by Stemmed Tokens)')\n",
    "st2.get_legend().remove()\n",
    "\n",
    "# LINEAR SCALE\n",
    "st3 = df_tokens_stemmed.plot.hist(range = (0,400), alpha = 0.6, bins=401, color='b')\n",
    "st3.set_xlabel('Number of Stemmed Tokens')\n",
    "st3.set_ylabel('Number of Reviews')\n",
    "st3.set_title('Review Length Distribution (by Stemmed Tokens)')\n",
    "st3.get_legend().remove()\n",
    "\n",
    "plt.show()"
   ]
  },
  {
   "cell_type": "markdown",
   "metadata": {
    "colab_type": "text",
    "id": "1fORomf64aqe"
   },
   "source": [
    "## 3.2.4 POS Tagging \n",
    "**Select 5 random reviews and apply POS tagging to the first sentence of each review.**"
   ]
  },
  {
   "cell_type": "code",
   "execution_count": 44,
   "metadata": {
    "colab": {},
    "colab_type": "code",
    "id": "ZmXVdRhQ4Ze-",
    "outputId": "28df8b63-1d07-4270-f81c-8ecb5c8defbc"
   },
   "outputs": [
    {
     "name": "stdout",
     "output_type": "stream",
     "text": [
      "[36796, 63600, 6190, 160717, 117213]\n"
     ]
    }
   ],
   "source": [
    "# Select 5 random reviews\n",
    "\n",
    "random.seed(22)\n",
    "reviews = random.sample(range(len(df_all_reviews)),5)\n",
    "print(reviews)"
   ]
  },
  {
   "cell_type": "code",
   "execution_count": 45,
   "metadata": {
    "colab": {},
    "colab_type": "code",
    "id": "yntlh0vkO3PH",
    "outputId": "4bcff43a-d1d6-49e4-f84a-ca0e5cb287ce"
   },
   "outputs": [
    {
     "name": "stdout",
     "output_type": "stream",
     "text": [
      "This case protects this phone from MANY a fall I've had. I take the case off and you can't even tell the phone is used, still looks like the 4S I got one the first day. \n",
      "\n",
      "The real thing..and did data and power.  For the price..go ahead and get it.  Some others have gotten counterfeit.  I think Amazon isn't' screening this stuff well enough. \n",
      "\n",
      "great is's gentle on my ipod and the price was a steal and i wouldbuy it again and again \n",
      "\n",
      "I usually have to buy multiple stylus pens because with a family of 4, they get lost, broken, and worn down. I like the design of these pens, everyone gets to pick their favorite color. I don't like the long skinny versions or the ones that are too short. These are the perfect size, just slightly smaller than a regular size writing pen. Kind of pricy, but hopefully they should last a while. \n",
      "\n",
      "Words can NOT express how powerful this phone is.  I upgraded from a Galaxy Note 1 International and the 2gb of RAM on Note 2 makes a WORLD of difference.  I installed all my old apps that were on my first Galaxy Note, plus Coldfustion's 3D UI which takes up about 300 to 400mb of RAM total itself ( 7 or 10 apps to get the ColdFustion look)I bought my Note 2 used and Unfortunately the seller i bought this from didn't mention a small scratch on the screen that is noticeable any time the screen is off or there is black background behind it... Had i known this, i woulda' paid 50 dollars more for a new one...I'm so in love with the power of Galaxy Note II,  that i couldn't mail it back for a refund lolAnd its probably a scratch that will end up there after a few months of owning it myself so at least i saved 50 bucks. \n",
      "\n"
     ]
    }
   ],
   "source": [
    "# Get these 5 random reviews\n",
    "\n",
    "reviews_random = []\n",
    "for i in reviews:\n",
    "    reviews_random.append(df_all_reviews.loc[i,'reviewText'])\n",
    "    print(df_all_reviews.loc[i,'reviewText'],'\\n')"
   ]
  },
  {
   "cell_type": "code",
   "execution_count": 46,
   "metadata": {
    "colab": {},
    "colab_type": "code",
    "id": "p_h2CEigO3PL",
    "outputId": "eab05467-04b9-4f50-ec07-db0f323b146e"
   },
   "outputs": [
    {
     "name": "stdout",
     "output_type": "stream",
     "text": [
      "This case protects this phone from MANY a fall I've had.\n",
      "The real thing..and did data and power.\n",
      "great is's gentle on my ipod and the price was a steal and i wouldbuy it again and again\n",
      "I usually have to buy multiple stylus pens because with a family of 4, they get lost, broken, and worn down.\n",
      "Words can NOT express how powerful this phone is.\n"
     ]
    }
   ],
   "source": [
    "# Sentence tokenize these 5 reviews, get the first sentence of each review\n",
    "# Note that: 1st sentence - good grammar. 2nd, 3rd - poor grammar and punctuation.\n",
    "# 4th - good grammar. 5th - good grammar except 'cannot' is separated to two words\n",
    "\n",
    "tokens = []\n",
    "sentences_random = []\n",
    "\n",
    "for j, review in enumerate(reviews_random):\n",
    "    tokens.append(sent_tokenize(review))\n",
    "    sentences_random.append(tokens[j][0])\n",
    "    print(sentences_random[j])"
   ]
  },
  {
   "cell_type": "code",
   "execution_count": 47,
   "metadata": {
    "colab": {},
    "colab_type": "code",
    "id": "7cuzaco8O3PO",
    "outputId": "5327819d-bfcf-4dc2-8a8c-24d1ee7fcd6b"
   },
   "outputs": [
    {
     "name": "stdout",
     "output_type": "stream",
     "text": [
      "[('This', 'DT'), ('case', 'NN'), ('protects', 'VBZ'), ('this', 'DT'), ('phone', 'NN'), ('from', 'IN'), ('MANY', 'NNP'), ('a', 'DT'), ('fall', 'NN'), ('I', 'PRP'), (\"'ve\", 'VBP'), ('had', 'VBN'), ('.', '.')] \n",
      "\n",
      "[('The', 'DT'), ('real', 'JJ'), ('thing..and', 'NN'), ('did', 'VBD'), ('data', 'NNS'), ('and', 'CC'), ('power', 'NN'), ('.', '.')] \n",
      "\n",
      "[('great', 'JJ'), ('is', 'VBZ'), (\"'s\", 'POS'), ('gentle', 'NN'), ('on', 'IN'), ('my', 'PRP$'), ('ipod', 'NN'), ('and', 'CC'), ('the', 'DT'), ('price', 'NN'), ('was', 'VBD'), ('a', 'DT'), ('steal', 'NN'), ('and', 'CC'), ('i', 'NN'), ('wouldbuy', 'VBP'), ('it', 'PRP'), ('again', 'RB'), ('and', 'CC'), ('again', 'RB')] \n",
      "\n",
      "[('I', 'PRP'), ('usually', 'RB'), ('have', 'VBP'), ('to', 'TO'), ('buy', 'VB'), ('multiple', 'JJ'), ('stylus', 'NN'), ('pens', 'NNS'), ('because', 'IN'), ('with', 'IN'), ('a', 'DT'), ('family', 'NN'), ('of', 'IN'), ('4', 'CD'), (',', ','), ('they', 'PRP'), ('get', 'VBP'), ('lost', 'VBN'), (',', ','), ('broken', 'VBN'), (',', ','), ('and', 'CC'), ('worn', 'VBD'), ('down', 'RB'), ('.', '.')] \n",
      "\n",
      "[('Words', 'NNS'), ('can', 'MD'), ('NOT', 'NNP'), ('express', 'VB'), ('how', 'WRB'), ('powerful', 'JJ'), ('this', 'DT'), ('phone', 'NN'), ('is', 'VBZ'), ('.', '.')] \n",
      "\n"
     ]
    }
   ],
   "source": [
    "# Apply POS tagging\n",
    "\n",
    "tokens = []\n",
    "for k, sentence in enumerate(sentences_random):\n",
    "    tokens = word_tokenize(sentence)\n",
    "    print(nltk.pos_tag(tokens),'\\n')"
   ]
  }
 ],
 "metadata": {
  "colab": {
   "collapsed_sections": [],
   "name": "AI6122_G01_PART1_DATA_ANALYSIS.ipynb",
   "provenance": []
  },
  "kernelspec": {
   "display_name": "Python 3",
   "language": "python",
   "name": "python3"
  },
  "language_info": {
   "codemirror_mode": {
    "name": "ipython",
    "version": 3
   },
   "file_extension": ".py",
   "mimetype": "text/x-python",
   "name": "python",
   "nbconvert_exporter": "python",
   "pygments_lexer": "ipython3",
   "version": "3.6.8"
  }
 },
 "nbformat": 4,
 "nbformat_minor": 4
}
