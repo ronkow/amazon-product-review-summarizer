{
 "cells": [
  {
   "cell_type": "markdown",
   "metadata": {},
   "source": [
    "### **DATA PREPROCESSING**\n",
    "#### Create two DataFrames with these columns:   \n",
    "#### (1) asin, num_reviews, review (one column per review)\n",
    "#### (2) asin, num_reviews, all_review (concatenated reviews in one column)\n",
    "#### Convert them to csv files for easy conversion back to DataFrame later."
   ]
  },
  {
   "cell_type": "code",
   "execution_count": 4,
   "metadata": {},
   "outputs": [],
   "source": [
    "import utils\n",
    "import os\n",
    "import pandas as pd"
   ]
  },
  {
   "cell_type": "code",
   "execution_count": 5,
   "metadata": {},
   "outputs": [],
   "source": [
    "def process_data(dataframe):\n",
    "    \n",
    "    # DataFrame with columns 'asin', 'reviewText'\n",
    "    # Header and First row:\n",
    "    #   asin       reviewText          \n",
    "    # 0 120401325X They look good and stick good!...\n",
    "    \n",
    "    df1 = dataframe[['asin','reviewText']]\n",
    "\n",
    "    # List of unique asin\n",
    "    # ['120401325X',...]\n",
    "    \n",
    "    product = df1['asin'].unique()\n",
    "\n",
    "    # Convert to DataFrame\n",
    "    # Header and First row:\n",
    "    #   asin\n",
    "    # 0 120401325X\n",
    "    \n",
    "    df_product = pd.DataFrame(product)\n",
    "    df_product.columns = ['asin']\n",
    "    \n",
    "    review = []\n",
    "    review_all = []\n",
    "\n",
    "    # Add first asin to list\n",
    "    #  ['120401325X']\n",
    "    \n",
    "    product = df1.loc[0]['asin']\n",
    "    review.append(product)\n",
    "\n",
    "    # Add all reviewText to each asin\n",
    "    # [['120401325X', 'They look good and stick good!...','These stickers...',...],...]\n",
    "    \n",
    "    for i, row in df1.iterrows():\n",
    "        if row['asin'] == product:\n",
    "            review.append(row['reviewText'])\n",
    "        else:\n",
    "            review_all.append(review)\n",
    "            review = []\n",
    "            review.append(row['asin'])\n",
    "            review.append(row['reviewText'])\n",
    "            product = row['asin']\n",
    "    review_all.append(review)    \n",
    "    \n",
    "    # Convert list to DataFrame\n",
    "    # Header and First row:\n",
    "    #   0          1                                 2\n",
    "    # 0 120401325X They look good and stick good!... These stickers...\n",
    "    \n",
    "    df_review1 = pd.DataFrame(review_all)\n",
    "\n",
    "    # Rename column header\n",
    "    #   asin       1                                 2  \n",
    "    # 0 120401325X They look good and stick good!... These stickers\n",
    "    \n",
    "    df_review1 = df_review1.rename(columns = {0:'asin'})\n",
    "        \n",
    "    # dataframe with columns 'asin', 'num_reviews'\n",
    "    # Header and First row:\n",
    "    #   asin        num_reviews \n",
    "    # 0 120401325X  5\n",
    "    \n",
    "    df2 = dataframe.asin.value_counts().reset_index()\n",
    "    df2.columns = ['asin', 'num_reviews']\n",
    "\n",
    "    # Add 'num_reviews' column to df_review1\n",
    "    # Append a new empty column with header 'all_reviews'\n",
    "    # Header and First row:\n",
    "    #   asin       num_reviews 1                                 all_reviews\n",
    "    # 0 120401325X 5           They look good and stick good!...\n",
    "    \n",
    "    df_review2 = pd.merge(df2, df_review1, on = 'asin')\n",
    "    df_review2.loc[:,'all_reviews'] = ' '\n",
    "    \n",
    "    # Concatenate reviews into all_reviews\n",
    "    # Create DataFrame with columns 'asin','num_reviews','all_reviews'\n",
    "    #   asin       num_reviews  all_reviews\n",
    "    # 0 120401325X 5            They look good and stick good!...\n",
    "    \n",
    "    for i, row in df_review2.iterrows():\n",
    "        n = df_review2['num_reviews'][i]\n",
    "        k = 1\n",
    "        for k in range(1,n+1):\n",
    "            df_review2['all_reviews'][i] = df_review2['all_reviews'][i] + ' ' + df_review2[k][i]\n",
    "            k += 1\n",
    "    df_review3 = df_review2[['asin','num_reviews','all_reviews']]\n",
    " \n",
    "    return df_review2, df_review3"
   ]
  },
  {
   "cell_type": "markdown",
   "metadata": {},
   "source": [
    "### **RUN!**"
   ]
  },
  {
   "cell_type": "code",
   "execution_count": 6,
   "metadata": {},
   "outputs": [],
   "source": [
    "DATA_DIR = \"data/\"\n",
    "DATA_FILE = 'Cell_Phones_and_Accessories_5.json'\n",
    "\n",
    "filepath = os.path.join(DATA_DIR, DATA_FILE)\n",
    "df = utils.json_to_dataframe(filepath)\n",
    "\n",
    "df1, df2 = process_data(df)\n",
    "\n",
    "utils.dataframe_to_csv(df1,'data/asin_numreviews_review.csv')\n",
    "utils.dataframe_to_csv(df2, 'data/asin_numreviews_allreview.csv')"
   ]
  },
  {
   "cell_type": "code",
   "execution_count": null,
   "metadata": {},
   "outputs": [],
   "source": [
    "# CHECK\n",
    "file1 = os.path.join(DATA_DIR, 'asin_numreviews_review.csv')\n",
    "file2 = os.path.join(DATA_DIR, 'asin_numreviews_allreview.csv')\n",
    "\n",
    "df_review = utils.csv_to_dataframe(file1)\n",
    "df_allreview = utils.csv_to_dataframe(file2)"
   ]
  },
  {
   "cell_type": "code",
   "execution_count": 8,
   "metadata": {},
   "outputs": [
    {
     "name": "stdout",
     "output_type": "stream",
     "text": [
      "10429\n",
      "10429\n",
      "\n",
      "asin                                                  B00KCSG3NI\n",
      "num_reviews                                                   27\n",
      "1              This works for my tablet just as well as the o...\n",
      "2              My husband and I are always fighting for charg...\n",
      "3              I got this as a replacement charger for my dau...\n",
      "                                     ...                        \n",
      "834                                                          NaN\n",
      "835                                                          NaN\n",
      "836                                                          NaN\n",
      "837                                                          NaN\n",
      "all_reviews      This works for my tablet just as well as the...\n",
      "Name: 1556, Length: 840, dtype: object\n",
      "\n",
      "asin                                                  B00KCSG3NI\n",
      "num_reviews                                                   27\n",
      "all_reviews      This works for my tablet just as well as the...\n",
      "Name: 1556, dtype: object\n",
      "\n",
      "  This works for my tablet just as well as the one that came with it.I have got inferior courts before this one. My husband and I are always fighting for chargers since we both use Samsung .. if our charge is low and we need to be on the run we hate that we have to wait a while for charge.  We both saw this one and he was skeptical.  I bought it because I needed an extra charger at work.  WOW .. it does charge my phone at half the time.  in 15min I get 30%charge!  My husband bought another for himself and he is ordering an extra one for the car (since we have a USB port).  I give it a high recomendation and will gift it to family and friends.  Liger has great quality! I got this as a replacement charger for my daughter when the cat chewed her cord, what a great buy! Came in great packaging. High Quality and charges perfect and fast every time. Everyone who needs I mico-USB charger needs this charger! Great Product! great charger..works great...love the black and white colors..seems to be very durable and will last..worth the money to get a charger that wont hold up I love this little USB power adapter/wall charger. I always misplace these, so it's nice to have a few on hand. They are so handy to have around at home and for travel- we have so many phones and laptops that need charging. Works great- stays in the wall and charges our devices efficiently and fully. Thanks Liger! Works Like A Pro. Just like any other I have had, this is easy to use and travel from room to room with me to keep my S4 charged up. This is handsome a very sturdy. I had lost one of my original chargers, and this works just as great. A good value for all the components. I'd highly recommend this brand to those on the hunt for a good, well-made product. This is a great product to have if you travel a lot, just keep one in your travel or office bag for those times you need a quick charge. Highly recommend. This seems to really charge my Android quickly.  I have S4 and charges right up.  If you are looking for another charge stop look and just get this one. Can never have enough of these with three kids in the house. Works great and good quality. Would definitely recommend. Love this charger! Have used it for about a week and it seems to be very solid and it charges quickly as well. Probably better made than the original charger that came with my iPad. I needed a back up charger for my Note and this one works well. I wish the cord was longer but besides that it does the job. I carry this charger in my secret pocket in my purse.  My battery on my phone needs to be recharged quite often (need a new battery) and just having an extra charger is very important, especially when you are on the go.  I've used this one alot and it really does charge up really fast. I use my laptop or desktop to charge most devices, but I like to have an option that's a little more convenient for times when a guest's phone or tablet starts to die. This little guy is perfect for that since it's so small, and it even looks a little nicer than your average &#34;wall wart.&#34; It even came with a micro USB cable (which is what most of my stuff uses), so all I have to do is throw an old mini USB cable and a lightning cable in the drawer with it, and I'll have most of the bases covered. Love this product. Enables me to be able to charge my phone or tablet with one charger. Great quality and easy to understand instructions are a plus. Also includes all cables needed. The USB plugs into the ipad 2 with no  problems or interruptions with 30 pin cable that's the one that I got it also has other usages like iPhone iPod and GPS and your hand held game and more only issue wish cable was a little longer, here's some extras to help with purchase decision ,Compact, lightweight and easy to carry, Measures 3.4ft for added convenience and maneuverabilityCharger: Input: 100V - 240V (U.S. & World Standard). Supports USB 2.0 with full speed up to 480 MbpsOutput: DC5.0V 1A Max (5W)This Combo Pack Includes: 3.4-Foot Charge and Sync Cable (30-pin) + 1a Wall ChargerWall Charger + 30 Pin Cable | Color: BlackProduct Dimensions: 2 x 1 x 2 inches ; 2.1 ouncesShipping Weight: 3 ounces Courtesy of Liger .. This is a real good charger was having issues with the charger that came with my phone and purchased this one and havenot had any issues with it at all.  Highly recommended Love having the longer cord on this charger! I really needed an extra charger to keep with me for my iPod -- this fits the bill perfectly and I am impressed with how quickly it can charge my device.  Very satisfied with this product! I received this product a few days ago. So far I really like it. It is easy to use and charges my iPad very quickly. Also the packaging was very nice. I'm pleased with that  wall charger ,it  charges my ipod and iphone very fast......all I ever wanted ...opposite  few old  ones I have here  which takes days to charge my electronics...looks durable and sleek Im sure it will last me  a while ......overall another good purchase on Amazon thats why I keep coming back ... Bought for my son's tablet after his charger magically vanished lol. It came quick and charged his tablet easily. Love it! Works well. No complaints well I have four children as well as my wife and myself and we can never have enough chargers in the house - usually turns into a battle over the ones that we have - very nice charger - nice and sturdy - would definitely recommend!!!! Small, compact and Fast! Great product for a great price. You can feel the quality, throw it in your bag and its always ready when you need Power! Thanks Just got this and tested out on my iPod Nano. Works perfectly. Always great to have a spare. Ans the USB wall plug works with my other USB cords as well. I love getting double duty out of things. Thanks for a great product! This charger works great!  I lost my charger for my IPad and this charger was what I needed when I needed it.  Charges quickly, and I was back online in no time!  Very happy, and would highly recommend! My hubby is super picky about his chargers for his iphone.  He only wants the Apple chargers but once he tried this one (mine) he was impressed and took it for himself!  It is high quality and works just like the Apple chargers but at a much better price!  It charges my Ipad, Iphone 3g and iphone 4s quickly and easily. I always need a charger. It's a good idea to have one at home, at work, and one in my bag. And finding a good quality one is tough. There are many poor quality chargers out there, but this one isn't one of them. This is a well built, smoothly designed set that comes with a wall charger and a 30 pin apple charger which works for iphone 4s and older, ipads and ipods. You can take this on your travels as the charger can auto convert to 110-220V.One concern I always have with 30 pin charger is how they &#34;clip&#34; into the iphone. The clips here do well and hold the cable into place into the phone.I'd certainly consider buying a few spares of the cable. Its a better price than apple is selling these cables for.\n"
     ]
    }
   ],
   "source": [
    "print(len(df_review))\n",
    "print(len(df_allreview))\n",
    "print('')\n",
    "print(df_review.loc[1556])\n",
    "print('')\n",
    "print(df_allreview.loc[1556])\n",
    "print('')\n",
    "print(df_allreview['all_reviews'][1556])"
   ]
  }
 ],
 "metadata": {
  "kernelspec": {
   "display_name": "Python 3",
   "language": "python",
   "name": "python3"
  },
  "language_info": {
   "codemirror_mode": {
    "name": "ipython",
    "version": 3
   },
   "file_extension": ".py",
   "mimetype": "text/x-python",
   "name": "python",
   "nbconvert_exporter": "python",
   "pygments_lexer": "ipython3",
   "version": "3.8.3"
  }
 },
 "nbformat": 4,
 "nbformat_minor": 4
}
