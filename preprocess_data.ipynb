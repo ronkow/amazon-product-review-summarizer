{
 "cells": [
  {
   "cell_type": "markdown",
   "metadata": {},
   "source": [
    "### **DATA PREPROCESSING**\n",
    "#### Create two DataFrames with these columns:   \n",
    "#### (1) asin, num_reviews, review (one column per review)\n",
    "#### (2) asin, num_reviews, all_review (concatenated reviews in one column)\n",
    "#### Convert them to csv files for easy conversion back to DataFrame later."
   ]
  },
  {
   "cell_type": "raw",
   "metadata": {},
   "source": [
    "First row in dataset:\n",
    "{    \n",
    "    \"reviewerID\": \"A30TL5EWN6DFXT\", \n",
    "    \"asin\": \"120401325X\", \n",
    "    \"reviewerName\": \"christina\", \n",
    "    \"helpful\": [0, 0], \n",
    "    \"reviewText\": \"They look good and stick good! I just don't like the rounded shape because I was always bumping it and Siri kept popping up and it was   \n",
    "        irritating. I just won't buy a product like this again\", \n",
    "    \"overall\": 4.0, \n",
    "    \"summary\": \"Looks Good\", \n",
    "    \"unixReviewTime\": 1400630400, \n",
    "    \"reviewTime\": \"05 21, 2014\"\n",
    "}    "
   ]
  },
  {
   "cell_type": "code",
   "execution_count": 7,
   "metadata": {},
   "outputs": [],
   "source": [
    "import os\n",
    "import json\n",
    "import pandas as pd"
   ]
  },
  {
   "cell_type": "code",
   "execution_count": 8,
   "metadata": {},
   "outputs": [],
   "source": [
    "# Convert json data to a list, then convert list to a DataFrame\n",
    "\n",
    "def json_to_dataframe(filepath):\n",
    "    all_reviews = []\n",
    "\n",
    "    with open(filepath) as json_file:\n",
    "        for j in json_file:\n",
    "            x = json.loads(j)\n",
    "            all_reviews.append(x)\n",
    "        \n",
    "    return pd.DataFrame(all_reviews)"
   ]
  },
  {
   "cell_type": "code",
   "execution_count": 9,
   "metadata": {},
   "outputs": [],
   "source": [
    "def csv_to_dataframe(filepath):\n",
    "    df = pd.read_csv(filepath)\n",
    "    return df"
   ]
  },
  {
   "cell_type": "code",
   "execution_count": 10,
   "metadata": {},
   "outputs": [],
   "source": [
    "def dataframe_to_csv(dataframe, filename):\n",
    "    csvfile = dataframe.to_csv(filename, encoding='utf-8', index=False)"
   ]
  },
  {
   "cell_type": "code",
   "execution_count": 11,
   "metadata": {},
   "outputs": [],
   "source": [
    "def process_data(dataframe):\n",
    "    \n",
    "    # DataFrame with columns 'asin', 'reviewText'\n",
    "    # Header and First row:\n",
    "    #   asin       reviewText          \n",
    "    # 0 120401325X They look good and stick good!...\n",
    "    df1 = dataframe[['asin','reviewText']]\n",
    "\n",
    "    # List of unique asin\n",
    "    # ['120401325X',...]\n",
    "    product = df1['asin'].unique()\n",
    "\n",
    "    # Convert to DataFrame\n",
    "    # Header and First row:\n",
    "    #   asin\n",
    "    # 0 120401325X\n",
    "    df_product = pd.DataFrame(product)\n",
    "    df_product.columns = ['asin']\n",
    "    \n",
    "    review = []\n",
    "    review_all = []\n",
    "\n",
    "    # Add first asin to list\n",
    "    #  ['120401325X']\n",
    "    product = df1.loc[0]['asin']\n",
    "    review.append(product)\n",
    "\n",
    "    # Add all reviewText to each asin\n",
    "    # [['120401325X', 'They look good and stick good!...','These stickers...',...],...]\n",
    "    for i, row in df1.iterrows():\n",
    "        if row['asin'] == product:\n",
    "            review.append(row['reviewText'])\n",
    "        else:\n",
    "            review_all.append(review)\n",
    "            review = []\n",
    "            review.append(row['asin'])\n",
    "            review.append(row['reviewText'])\n",
    "            product = row['asin']\n",
    "    review_all.append(review)    \n",
    "    \n",
    "    # Convert list to DataFrame\n",
    "    # Header and First row:\n",
    "    #   0          1                                 2\n",
    "    # 0 120401325X They look good and stick good!... These stickers...\n",
    "    df_review1 = pd.DataFrame(review_all)\n",
    "\n",
    "    # Rename column header\n",
    "    #   asin       1                                 2  \n",
    "    # 0 120401325X They look good and stick good!... These stickers\n",
    "    df_review1 = df_review1.rename(columns = {0:'asin'})\n",
    "        \n",
    "    # dataframe with columns 'asin', 'num_reviews'\n",
    "    # Header and First row:\n",
    "    #   asin        num_reviews \n",
    "    # 0 120401325X  5\n",
    "    df2 = dataframe.asin.value_counts().reset_index()\n",
    "    df2.columns = ['asin', 'num_reviews']\n",
    "\n",
    "    # Add 'num_reviews' column to df_review1\n",
    "    # Append a new empty column with header 'all_reviews'\n",
    "    # Header and First row:\n",
    "    #   asin       num_reviews 1                                 all_reviews\n",
    "    # 0 120401325X 5           They look good and stick good!...\n",
    "    df_review2 = pd.merge(df2, df_review1, on = 'asin')\n",
    "    df_review2.loc[:,'all_reviews'] = ' '\n",
    "    \n",
    "    # Concatenate reviews into all_reviews\n",
    "    # Create DataFrame with columns 'asin','num_reviews','all_reviews'\n",
    "    #   asin       num_reviews  all_reviews\n",
    "    # 0 120401325X 5            They look good and stick good!...\n",
    "    for i, row in df_review2.iterrows():\n",
    "        n = df_review2['num_reviews'][i]\n",
    "        k = 1\n",
    "        for k in range(1,n+1):\n",
    "            df_review2['all_reviews'][i] = df_review2['all_reviews'][i] + ' ' + df_review2[k][i]\n",
    "            k += 1\n",
    "    df_review3 = df_review2[['asin','num_reviews','all_reviews']]\n",
    " \n",
    "    return df_review2, df_review3"
   ]
  },
  {
   "cell_type": "markdown",
   "metadata": {},
   "source": [
    "### **RUN!**"
   ]
  },
  {
   "cell_type": "code",
   "execution_count": null,
   "metadata": {},
   "outputs": [],
   "source": [
    "DATA_DIR = \"data/\"\n",
    "DATA_FILE = 'Cell_Phones_and_Accessories_5.json'\n",
    "\n",
    "filepath = os.path.join(DATA_DIR, DATA_FILE)\n",
    "df = json_to_dataframe(filepath)\n",
    "\n",
    "df1, df2 = process_data(df)\n",
    "\n",
    "dataframe_to_csv(df1,'data/asin_numreviews_review.csv')\n",
    "dataframe_to_csv(df2, 'data/asin_numreviews_allreview.csv')"
   ]
  },
  {
   "cell_type": "code",
   "execution_count": 19,
   "metadata": {},
   "outputs": [],
   "source": [
    "# CHECK\n",
    "file1 = os.path.join(DATA_DIR, 'asin_numreviews_review.csv')\n",
    "file2 = os.path.join(DATA_DIR, 'asin_numreviews_allreview.csv')\n",
    "\n",
    "df_review = csv_to_dataframe(file1)\n",
    "df_allreview = csv_to_dataframe(file2)"
   ]
  },
  {
   "cell_type": "code",
   "execution_count": 20,
   "metadata": {},
   "outputs": [
    {
     "name": "stdout",
     "output_type": "stream",
     "text": [
      "10429\n",
      "10429\n",
      "\n",
      "asin                                                  B0036BNRGO\n",
      "num_reviews                                                   27\n",
      "1              Good to always have an extra on hand and it's ...\n",
      "2              No problem charging my iPhone (iPhone 4 and 3 ...\n",
      "3              The connection started getting bad and I had t...\n",
      "                                     ...                        \n",
      "834                                                          NaN\n",
      "835                                                          NaN\n",
      "836                                                          NaN\n",
      "837                                                          NaN\n",
      "all_reviews      Good to always have an extra on hand and it'...\n",
      "Name: 1556, Length: 840, dtype: object\n",
      "\n",
      "asin                                                  B0036BNRGO\n",
      "num_reviews                                                   27\n",
      "all_reviews      Good to always have an extra on hand and it'...\n",
      "Name: 1556, dtype: object\n",
      "\n",
      "  Good to always have an extra on hand and it's longer than the original No problem charging my iPhone (iPhone 4 and 3 only). Also for the price it's a great deal....I recommend this cable. The connection started getting bad and I had to constantly wiggle the wires to get it to work. Then one day the cord came completely out of the part that goes into your phone. The picture shows heavy duty anti-bend/break material where the cord enters the plug.The sync cords that I received did not have this extra material.I bought 3: 1 works, 1 fails completely, the third makes the iPod think it is charging (the green battery-charge lock-screen appears), but the iPod does NOT actually charge.PROS:Inexpensive.The one that works holds up fairly well.CONS:Only 1 out of 3 works.I cannot recommend buying these, unless you are prepared to buy 3 times the number you actually need.Test them before taking them on trip where you will need them to work! I ordered this to replace some of the cables that stopped working or got damaged. The product was shipped on time, and I got it before the delivery date. As to the cable, I was able to charge successfully my iPhone 3GS as well as my iPad 2. The quality is fairly good - it does not look as supple as the apple cable - it is a bit firm and a bit thinner, but for such a low cost, I am not complaining.I will go thru my cables at home and will order more to replace the damaged cables that I got with the phones. Its a wire, theres not to much to say about it, other than great price.. and it works.. so Ill probally come back when I need another This is a nice and cheap replacement sync cable. I use this to charge my iphone 4s in my car. I have a lighter adapter and use this cable. So far it works fine and hasn't given me any trouble. The original one I had from apple started fell apart. The cable sleeve started coming out and exposing the innards of the cable. I am sure this cable will get to that point with use but is cheap so no worries. Stylish n not the ordinary white like all the other USB cords great price on this black cord great as a back up either at home or in the car THIS THING SUCKS SO BAD WHEN EVER I WOULD PLUG IT INTO MY MACBOOK MY COMPUTER WOULD TOTALLY RESTART AT FIRST I DIDNT KNOW WHAT THE PROBLEM WAS THEN I TOOK THIS CHARGER OUT AND SAW IT ONLY HAPPENED WHEN I TOOK THIS OUT AND PUT IT BACK IN DO NOT BUY! Cables are good so far. Just used them to sync my iPod with my computer. Bought 2 but I just use one so far. Great quality and works good. Fit the iPod perfectly! good purchase, i  recommended that product to other customers. so far working very well. i would buy again, make a good spare cord. Broke on the first use. I took the cable out of the wrapping and plugged it in to a usb port, went to plug it into my iPhone and the end broke. This is the best Chinese apple charger I have bought it is fast charging (the other guys chargers are slow). And this charger is well made. Really cheap so why not pick up a couple of them! This cord works perfectly and the price couldn't be beat.  It performs just as well as the cord that came with the phone (iPhone 4s).  I use it in the car with a Scosche Dual USB Car Charger and it couldn't work better. This cable does what it says- works with all apple products that use the dock connector. HOWEVER it has buttons to unplug it like older apple cables and these buttons will break very easily. once the buttons have broken off it takes a good minute to unplug the device every time because you need to dig your nails into it to actuate the release switches. DO NOT BUY. Did not charge my iPad. Ended up going to Apple store, paying a fortune, but bought a product that worked. Lesson learned-DO NOT LOOSE ORIGINAL that comes with it. Don't let kids borrow seems to disappear. I would NOT recommend this cord. Cheap but didn't work! its good for what it is used for. The cord itself isnt rubberized like the apple cord, and is stiff when you get it (no pun intended) but it will loosen up after a while. when you do plug it into your ipod it is a little hard to get in and pull out, but it works so thats all that matters. heck i only got it for like $.75 The cord works just as great as the one that came with the Apple iPad and also works on the iPhone 3 & 4 and iPods. This charger cable worked great, I got them for some of my students and they were very happy with them.  Awesome! iPad.......not so much. This looks sharp but if youre buying it for an ipad look elsewhere, it just cant handle the juice to satisfy that beast This cable doesn't charge well at all. It puts in maybe half of what I get from my Apple cable. It's not Apple. I specifically bought this under Amazon Prime after another vendor had failed to get a new iPad 2 sync cable to me in under two weeks. I had been borrowing my girlfriend's cable for that period, and I think this was starting to strain the relationship.The cable seems to be in all respects (except the color) a replication of Apple's iPad 2 sync cable. The construction and the materials are fairly lightweight, just as with Apple's cable. I tend to prefer the somewhat heavier construction and longer cable of the AmazonBasics version, but I haven't marked this cable down for that. Others may prefer the more lightweight approach, and it certainly makes it easier to roll the cable up and toss it into a case.I tend to wear out sync cables after six months, probably because I have a tendency to crimp the cable near the joints while using the iPad during a charge cycle. This cable is working vary well, though, and it looks durable enough to make it through at least six months. For the price I paid, I consider it a bargain and am seriously considering getting a second as a backup cable. It is still working as stated and he has had it for awhile now. Great deal for such a low price. You get what you pay for. This product caused problems with my ability to charge my iPhone and I actually had to replace the phone. Its better to pay the additional $30 to buy the Apple brand! Fast ship, powerful functionality.Most relevant 2 online purchasing.  .cheap & still functional after a period of time.= good stuff. Very cheaply made and does not work at all with an iPad3.  Occasionally will charge an iPhone4 but it is not consistent. Would not recommend for purchase.\n"
     ]
    }
   ],
   "source": [
    "print(len(df_review))\n",
    "print(len(df_allreview))\n",
    "print('')\n",
    "print(df_review.loc[1556])\n",
    "print('')\n",
    "print(df_allreview.loc[1556])\n",
    "print('')\n",
    "print(df_allreview['all_reviews'][1556])"
   ]
  },
  {
   "cell_type": "code",
   "execution_count": null,
   "metadata": {},
   "outputs": [],
   "source": []
  }
 ],
 "metadata": {
  "kernelspec": {
   "display_name": "Python 3",
   "language": "python",
   "name": "python3"
  },
  "language_info": {
   "codemirror_mode": {
    "name": "ipython",
    "version": 3
   },
   "file_extension": ".py",
   "mimetype": "text/x-python",
   "name": "python",
   "nbconvert_exporter": "python",
   "pygments_lexer": "ipython3",
   "version": "3.8.3"
  }
 },
 "nbformat": 4,
 "nbformat_minor": 4
}
